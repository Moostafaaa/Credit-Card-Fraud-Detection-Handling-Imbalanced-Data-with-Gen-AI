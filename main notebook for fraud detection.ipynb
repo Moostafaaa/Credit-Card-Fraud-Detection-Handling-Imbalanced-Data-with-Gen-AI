{
  "cells": [
    {
      "cell_type": "markdown",
      "metadata": {
        "id": "view-in-github",
        "colab_type": "text"
      },
      "source": [
        "<a href=\"https://colab.research.google.com/github/Moostafaaa/Credit-Card-Fraud-Detection-and-Handling-Imbalanced-Data-with-Gen-AI/blob/main/main%20notebook%20for%20fraud%20detection.ipynb\" target=\"_parent\"><img src=\"https://colab.research.google.com/assets/colab-badge.svg\" alt=\"Open In Colab\"/></a>"
      ]
    },
    {
      "cell_type": "markdown",
      "source": [
        "**In this project, I will try different methods and approches to handle the imbalanced dataset. For now, the best method was SMOTEENN. I will try other methods and will update this section when I will find better method.**"
      ],
      "metadata": {
        "id": "1lep5qOMmoW0"
      }
    },
    {
      "cell_type": "markdown",
      "metadata": {
        "id": "yfir31lFSVYK"
      },
      "source": [
        "### Business Context"
      ]
    },
    {
      "cell_type": "markdown",
      "metadata": {
        "id": "r2NgS9gnSVYP"
      },
      "source": [
        "It is important that credit card companies are able to recognize fraudulent credit card transactions so that customers are not charged for items that they did not purchase.\n",
        "\n",
        "This dataset is a bespoke dataset which contains transactions made by credit cards. This dataset contains transactions, where we have 180 frauds out of 4700 transactions. The dataset is highly imbalanced, the positive class (frauds) account for 3.83% of all transactions.\n",
        "\n",
        "It contains only numerical input variables which are the result of a PCA transformation. The input features are transformed to maintain the confidentiality of the original features and more background information about the data. Features PC1, PC2, … PC5 are the principal components obtained with PCA, the only feature which have not been transformed with PCA is 'ID' and 'Class'. Feature 'Class' is the response variable and it takes value 1 in case of fraud and 0 otherwise.\n",
        "\n",
        "Here is a vary famous dataset on [fraud detection](https://www.kaggle.com/mlg-ulb/creditcardfraud) which is available on Kaggle and similar to this dataset"
      ]
    },
    {
      "cell_type": "markdown",
      "metadata": {
        "id": "23-UxQF-SVYQ"
      },
      "source": [
        "### Loading libraries and dataset"
      ]
    },
    {
      "cell_type": "code",
      "execution_count": 1,
      "metadata": {
        "colab": {
          "base_uri": "https://localhost:8080/"
        },
        "id": "7IKk_VImSVYR",
        "outputId": "67b98b68-61fc-4a56-facf-e153fa2bd2c7"
      },
      "outputs": [
        {
          "output_type": "stream",
          "name": "stdout",
          "text": [
            "Requirement already satisfied: kaggle in /usr/local/lib/python3.10/dist-packages (1.6.17)\n",
            "Requirement already satisfied: six>=1.10 in /usr/local/lib/python3.10/dist-packages (from kaggle) (1.16.0)\n",
            "Requirement already satisfied: certifi>=2023.7.22 in /usr/local/lib/python3.10/dist-packages (from kaggle) (2024.7.4)\n",
            "Requirement already satisfied: python-dateutil in /usr/local/lib/python3.10/dist-packages (from kaggle) (2.8.2)\n",
            "Requirement already satisfied: requests in /usr/local/lib/python3.10/dist-packages (from kaggle) (2.32.3)\n",
            "Requirement already satisfied: tqdm in /usr/local/lib/python3.10/dist-packages (from kaggle) (4.66.5)\n",
            "Requirement already satisfied: python-slugify in /usr/local/lib/python3.10/dist-packages (from kaggle) (8.0.4)\n",
            "Requirement already satisfied: urllib3 in /usr/local/lib/python3.10/dist-packages (from kaggle) (2.0.7)\n",
            "Requirement already satisfied: bleach in /usr/local/lib/python3.10/dist-packages (from kaggle) (6.1.0)\n",
            "Requirement already satisfied: webencodings in /usr/local/lib/python3.10/dist-packages (from bleach->kaggle) (0.5.1)\n",
            "Requirement already satisfied: text-unidecode>=1.3 in /usr/local/lib/python3.10/dist-packages (from python-slugify->kaggle) (1.3)\n",
            "Requirement already satisfied: charset-normalizer<4,>=2 in /usr/local/lib/python3.10/dist-packages (from requests->kaggle) (3.3.2)\n",
            "Requirement already satisfied: idna<4,>=2.5 in /usr/local/lib/python3.10/dist-packages (from requests->kaggle) (3.7)\n",
            "cp: cannot stat 'kaggle.json': No such file or directory\n",
            "chmod: cannot access '/root/.kaggle/kaggle.json': No such file or directory\n",
            "Dataset URL: https://www.kaggle.com/datasets/mlg-ulb/creditcardfraud\n",
            "License(s): DbCL-1.0\n",
            "Downloading creditcardfraud.zip to /content\n",
            " 92% 61.0M/66.0M [00:00<00:00, 144MB/s]\n",
            "100% 66.0M/66.0M [00:00<00:00, 124MB/s]\n",
            "Archive:  creditcardfraud.zip\n",
            "  inflating: creditcard.csv          \n"
          ]
        }
      ],
      "source": [
        "# import libraries\n",
        "! pip install kaggle\n",
        "! mkdir ~/.kaggle\n",
        "! cp kaggle.json ~/.kaggle/\n",
        "! chmod 600 ~/.kaggle/kaggle.json\n",
        "! kaggle datasets download -d mlg-ulb/creditcardfraud\n",
        "! unzip creditcardfraud.zip\n",
        "\n"
      ]
    },
    {
      "cell_type": "code",
      "source": [
        "import numpy as np\n",
        "import pandas as pd\n",
        "import matplotlib.pyplot as plt\n",
        "import seaborn as sns\n",
        "from sklearn.model_selection import train_test_split\n",
        "from sklearn.metrics import confusion_matrix, classification_report"
      ],
      "metadata": {
        "id": "4RbWG199Xf2H"
      },
      "execution_count": 2,
      "outputs": []
    },
    {
      "cell_type": "code",
      "execution_count": 3,
      "metadata": {
        "id": "iXn_PpIZSVYS"
      },
      "outputs": [],
      "source": [
        "# import dataset\n",
        "df = pd.read_csv('creditcard.csv')"
      ]
    },
    {
      "cell_type": "markdown",
      "metadata": {
        "id": "9u1yZdMASVYS"
      },
      "source": [
        "### Exploring the dataset"
      ]
    },
    {
      "cell_type": "code",
      "execution_count": 13,
      "metadata": {
        "colab": {
          "base_uri": "https://localhost:8080/"
        },
        "id": "zXPEas_MSVYS",
        "outputId": "76af0c55-b540-4b3c-9e3a-fc8c9e476f20"
      },
      "outputs": [
        {
          "output_type": "execute_result",
          "data": {
            "text/plain": [
              "(284807, 31)"
            ]
          },
          "metadata": {},
          "execution_count": 13
        }
      ],
      "source": [
        "# check the shape of dataset\n",
        "\n",
        "df.shape"
      ]
    },
    {
      "cell_type": "code",
      "execution_count": null,
      "metadata": {
        "colab": {
          "base_uri": "https://localhost:8080/",
          "height": 412
        },
        "id": "NSOjBT2uSVYS",
        "outputId": "289ecd05-1169-4546-8bb9-41967f26894e"
      },
      "outputs": [
        {
          "output_type": "execute_result",
          "data": {
            "text/plain": [
              "   Time        V1        V2        V3        V4        V5        V6        V7  \\\n",
              "0   0.0 -1.359807 -0.072781  2.536347  1.378155 -0.338321  0.462388  0.239599   \n",
              "1   0.0  1.191857  0.266151  0.166480  0.448154  0.060018 -0.082361 -0.078803   \n",
              "2   1.0 -1.358354 -1.340163  1.773209  0.379780 -0.503198  1.800499  0.791461   \n",
              "3   1.0 -0.966272 -0.185226  1.792993 -0.863291 -0.010309  1.247203  0.237609   \n",
              "4   2.0 -1.158233  0.877737  1.548718  0.403034 -0.407193  0.095921  0.592941   \n",
              "5   2.0 -0.425966  0.960523  1.141109 -0.168252  0.420987 -0.029728  0.476201   \n",
              "6   4.0  1.229658  0.141004  0.045371  1.202613  0.191881  0.272708 -0.005159   \n",
              "7   7.0 -0.644269  1.417964  1.074380 -0.492199  0.948934  0.428118  1.120631   \n",
              "8   7.0 -0.894286  0.286157 -0.113192 -0.271526  2.669599  3.721818  0.370145   \n",
              "9   9.0 -0.338262  1.119593  1.044367 -0.222187  0.499361 -0.246761  0.651583   \n",
              "\n",
              "         V8        V9  ...       V21       V22       V23       V24       V25  \\\n",
              "0  0.098698  0.363787  ... -0.018307  0.277838 -0.110474  0.066928  0.128539   \n",
              "1  0.085102 -0.255425  ... -0.225775 -0.638672  0.101288 -0.339846  0.167170   \n",
              "2  0.247676 -1.514654  ...  0.247998  0.771679  0.909412 -0.689281 -0.327642   \n",
              "3  0.377436 -1.387024  ... -0.108300  0.005274 -0.190321 -1.175575  0.647376   \n",
              "4 -0.270533  0.817739  ... -0.009431  0.798278 -0.137458  0.141267 -0.206010   \n",
              "5  0.260314 -0.568671  ... -0.208254 -0.559825 -0.026398 -0.371427 -0.232794   \n",
              "6  0.081213  0.464960  ... -0.167716 -0.270710 -0.154104 -0.780055  0.750137   \n",
              "7 -3.807864  0.615375  ...  1.943465 -1.015455  0.057504 -0.649709 -0.415267   \n",
              "8  0.851084 -0.392048  ... -0.073425 -0.268092 -0.204233  1.011592  0.373205   \n",
              "9  0.069539 -0.736727  ... -0.246914 -0.633753 -0.120794 -0.385050 -0.069733   \n",
              "\n",
              "        V26       V27       V28  Amount  Class  \n",
              "0 -0.189115  0.133558 -0.021053  149.62      0  \n",
              "1  0.125895 -0.008983  0.014724    2.69      0  \n",
              "2 -0.139097 -0.055353 -0.059752  378.66      0  \n",
              "3 -0.221929  0.062723  0.061458  123.50      0  \n",
              "4  0.502292  0.219422  0.215153   69.99      0  \n",
              "5  0.105915  0.253844  0.081080    3.67      0  \n",
              "6 -0.257237  0.034507  0.005168    4.99      0  \n",
              "7 -0.051634 -1.206921 -1.085339   40.80      0  \n",
              "8 -0.384157  0.011747  0.142404   93.20      0  \n",
              "9  0.094199  0.246219  0.083076    3.68      0  \n",
              "\n",
              "[10 rows x 31 columns]"
            ],
            "text/html": [
              "\n",
              "  <div id=\"df-a63268de-4ddf-42f5-92b4-b07143e30b47\" class=\"colab-df-container\">\n",
              "    <div>\n",
              "<style scoped>\n",
              "    .dataframe tbody tr th:only-of-type {\n",
              "        vertical-align: middle;\n",
              "    }\n",
              "\n",
              "    .dataframe tbody tr th {\n",
              "        vertical-align: top;\n",
              "    }\n",
              "\n",
              "    .dataframe thead th {\n",
              "        text-align: right;\n",
              "    }\n",
              "</style>\n",
              "<table border=\"1\" class=\"dataframe\">\n",
              "  <thead>\n",
              "    <tr style=\"text-align: right;\">\n",
              "      <th></th>\n",
              "      <th>Time</th>\n",
              "      <th>V1</th>\n",
              "      <th>V2</th>\n",
              "      <th>V3</th>\n",
              "      <th>V4</th>\n",
              "      <th>V5</th>\n",
              "      <th>V6</th>\n",
              "      <th>V7</th>\n",
              "      <th>V8</th>\n",
              "      <th>V9</th>\n",
              "      <th>...</th>\n",
              "      <th>V21</th>\n",
              "      <th>V22</th>\n",
              "      <th>V23</th>\n",
              "      <th>V24</th>\n",
              "      <th>V25</th>\n",
              "      <th>V26</th>\n",
              "      <th>V27</th>\n",
              "      <th>V28</th>\n",
              "      <th>Amount</th>\n",
              "      <th>Class</th>\n",
              "    </tr>\n",
              "  </thead>\n",
              "  <tbody>\n",
              "    <tr>\n",
              "      <th>0</th>\n",
              "      <td>0.0</td>\n",
              "      <td>-1.359807</td>\n",
              "      <td>-0.072781</td>\n",
              "      <td>2.536347</td>\n",
              "      <td>1.378155</td>\n",
              "      <td>-0.338321</td>\n",
              "      <td>0.462388</td>\n",
              "      <td>0.239599</td>\n",
              "      <td>0.098698</td>\n",
              "      <td>0.363787</td>\n",
              "      <td>...</td>\n",
              "      <td>-0.018307</td>\n",
              "      <td>0.277838</td>\n",
              "      <td>-0.110474</td>\n",
              "      <td>0.066928</td>\n",
              "      <td>0.128539</td>\n",
              "      <td>-0.189115</td>\n",
              "      <td>0.133558</td>\n",
              "      <td>-0.021053</td>\n",
              "      <td>149.62</td>\n",
              "      <td>0</td>\n",
              "    </tr>\n",
              "    <tr>\n",
              "      <th>1</th>\n",
              "      <td>0.0</td>\n",
              "      <td>1.191857</td>\n",
              "      <td>0.266151</td>\n",
              "      <td>0.166480</td>\n",
              "      <td>0.448154</td>\n",
              "      <td>0.060018</td>\n",
              "      <td>-0.082361</td>\n",
              "      <td>-0.078803</td>\n",
              "      <td>0.085102</td>\n",
              "      <td>-0.255425</td>\n",
              "      <td>...</td>\n",
              "      <td>-0.225775</td>\n",
              "      <td>-0.638672</td>\n",
              "      <td>0.101288</td>\n",
              "      <td>-0.339846</td>\n",
              "      <td>0.167170</td>\n",
              "      <td>0.125895</td>\n",
              "      <td>-0.008983</td>\n",
              "      <td>0.014724</td>\n",
              "      <td>2.69</td>\n",
              "      <td>0</td>\n",
              "    </tr>\n",
              "    <tr>\n",
              "      <th>2</th>\n",
              "      <td>1.0</td>\n",
              "      <td>-1.358354</td>\n",
              "      <td>-1.340163</td>\n",
              "      <td>1.773209</td>\n",
              "      <td>0.379780</td>\n",
              "      <td>-0.503198</td>\n",
              "      <td>1.800499</td>\n",
              "      <td>0.791461</td>\n",
              "      <td>0.247676</td>\n",
              "      <td>-1.514654</td>\n",
              "      <td>...</td>\n",
              "      <td>0.247998</td>\n",
              "      <td>0.771679</td>\n",
              "      <td>0.909412</td>\n",
              "      <td>-0.689281</td>\n",
              "      <td>-0.327642</td>\n",
              "      <td>-0.139097</td>\n",
              "      <td>-0.055353</td>\n",
              "      <td>-0.059752</td>\n",
              "      <td>378.66</td>\n",
              "      <td>0</td>\n",
              "    </tr>\n",
              "    <tr>\n",
              "      <th>3</th>\n",
              "      <td>1.0</td>\n",
              "      <td>-0.966272</td>\n",
              "      <td>-0.185226</td>\n",
              "      <td>1.792993</td>\n",
              "      <td>-0.863291</td>\n",
              "      <td>-0.010309</td>\n",
              "      <td>1.247203</td>\n",
              "      <td>0.237609</td>\n",
              "      <td>0.377436</td>\n",
              "      <td>-1.387024</td>\n",
              "      <td>...</td>\n",
              "      <td>-0.108300</td>\n",
              "      <td>0.005274</td>\n",
              "      <td>-0.190321</td>\n",
              "      <td>-1.175575</td>\n",
              "      <td>0.647376</td>\n",
              "      <td>-0.221929</td>\n",
              "      <td>0.062723</td>\n",
              "      <td>0.061458</td>\n",
              "      <td>123.50</td>\n",
              "      <td>0</td>\n",
              "    </tr>\n",
              "    <tr>\n",
              "      <th>4</th>\n",
              "      <td>2.0</td>\n",
              "      <td>-1.158233</td>\n",
              "      <td>0.877737</td>\n",
              "      <td>1.548718</td>\n",
              "      <td>0.403034</td>\n",
              "      <td>-0.407193</td>\n",
              "      <td>0.095921</td>\n",
              "      <td>0.592941</td>\n",
              "      <td>-0.270533</td>\n",
              "      <td>0.817739</td>\n",
              "      <td>...</td>\n",
              "      <td>-0.009431</td>\n",
              "      <td>0.798278</td>\n",
              "      <td>-0.137458</td>\n",
              "      <td>0.141267</td>\n",
              "      <td>-0.206010</td>\n",
              "      <td>0.502292</td>\n",
              "      <td>0.219422</td>\n",
              "      <td>0.215153</td>\n",
              "      <td>69.99</td>\n",
              "      <td>0</td>\n",
              "    </tr>\n",
              "    <tr>\n",
              "      <th>5</th>\n",
              "      <td>2.0</td>\n",
              "      <td>-0.425966</td>\n",
              "      <td>0.960523</td>\n",
              "      <td>1.141109</td>\n",
              "      <td>-0.168252</td>\n",
              "      <td>0.420987</td>\n",
              "      <td>-0.029728</td>\n",
              "      <td>0.476201</td>\n",
              "      <td>0.260314</td>\n",
              "      <td>-0.568671</td>\n",
              "      <td>...</td>\n",
              "      <td>-0.208254</td>\n",
              "      <td>-0.559825</td>\n",
              "      <td>-0.026398</td>\n",
              "      <td>-0.371427</td>\n",
              "      <td>-0.232794</td>\n",
              "      <td>0.105915</td>\n",
              "      <td>0.253844</td>\n",
              "      <td>0.081080</td>\n",
              "      <td>3.67</td>\n",
              "      <td>0</td>\n",
              "    </tr>\n",
              "    <tr>\n",
              "      <th>6</th>\n",
              "      <td>4.0</td>\n",
              "      <td>1.229658</td>\n",
              "      <td>0.141004</td>\n",
              "      <td>0.045371</td>\n",
              "      <td>1.202613</td>\n",
              "      <td>0.191881</td>\n",
              "      <td>0.272708</td>\n",
              "      <td>-0.005159</td>\n",
              "      <td>0.081213</td>\n",
              "      <td>0.464960</td>\n",
              "      <td>...</td>\n",
              "      <td>-0.167716</td>\n",
              "      <td>-0.270710</td>\n",
              "      <td>-0.154104</td>\n",
              "      <td>-0.780055</td>\n",
              "      <td>0.750137</td>\n",
              "      <td>-0.257237</td>\n",
              "      <td>0.034507</td>\n",
              "      <td>0.005168</td>\n",
              "      <td>4.99</td>\n",
              "      <td>0</td>\n",
              "    </tr>\n",
              "    <tr>\n",
              "      <th>7</th>\n",
              "      <td>7.0</td>\n",
              "      <td>-0.644269</td>\n",
              "      <td>1.417964</td>\n",
              "      <td>1.074380</td>\n",
              "      <td>-0.492199</td>\n",
              "      <td>0.948934</td>\n",
              "      <td>0.428118</td>\n",
              "      <td>1.120631</td>\n",
              "      <td>-3.807864</td>\n",
              "      <td>0.615375</td>\n",
              "      <td>...</td>\n",
              "      <td>1.943465</td>\n",
              "      <td>-1.015455</td>\n",
              "      <td>0.057504</td>\n",
              "      <td>-0.649709</td>\n",
              "      <td>-0.415267</td>\n",
              "      <td>-0.051634</td>\n",
              "      <td>-1.206921</td>\n",
              "      <td>-1.085339</td>\n",
              "      <td>40.80</td>\n",
              "      <td>0</td>\n",
              "    </tr>\n",
              "    <tr>\n",
              "      <th>8</th>\n",
              "      <td>7.0</td>\n",
              "      <td>-0.894286</td>\n",
              "      <td>0.286157</td>\n",
              "      <td>-0.113192</td>\n",
              "      <td>-0.271526</td>\n",
              "      <td>2.669599</td>\n",
              "      <td>3.721818</td>\n",
              "      <td>0.370145</td>\n",
              "      <td>0.851084</td>\n",
              "      <td>-0.392048</td>\n",
              "      <td>...</td>\n",
              "      <td>-0.073425</td>\n",
              "      <td>-0.268092</td>\n",
              "      <td>-0.204233</td>\n",
              "      <td>1.011592</td>\n",
              "      <td>0.373205</td>\n",
              "      <td>-0.384157</td>\n",
              "      <td>0.011747</td>\n",
              "      <td>0.142404</td>\n",
              "      <td>93.20</td>\n",
              "      <td>0</td>\n",
              "    </tr>\n",
              "    <tr>\n",
              "      <th>9</th>\n",
              "      <td>9.0</td>\n",
              "      <td>-0.338262</td>\n",
              "      <td>1.119593</td>\n",
              "      <td>1.044367</td>\n",
              "      <td>-0.222187</td>\n",
              "      <td>0.499361</td>\n",
              "      <td>-0.246761</td>\n",
              "      <td>0.651583</td>\n",
              "      <td>0.069539</td>\n",
              "      <td>-0.736727</td>\n",
              "      <td>...</td>\n",
              "      <td>-0.246914</td>\n",
              "      <td>-0.633753</td>\n",
              "      <td>-0.120794</td>\n",
              "      <td>-0.385050</td>\n",
              "      <td>-0.069733</td>\n",
              "      <td>0.094199</td>\n",
              "      <td>0.246219</td>\n",
              "      <td>0.083076</td>\n",
              "      <td>3.68</td>\n",
              "      <td>0</td>\n",
              "    </tr>\n",
              "  </tbody>\n",
              "</table>\n",
              "<p>10 rows × 31 columns</p>\n",
              "</div>\n",
              "    <div class=\"colab-df-buttons\">\n",
              "\n",
              "  <div class=\"colab-df-container\">\n",
              "    <button class=\"colab-df-convert\" onclick=\"convertToInteractive('df-a63268de-4ddf-42f5-92b4-b07143e30b47')\"\n",
              "            title=\"Convert this dataframe to an interactive table.\"\n",
              "            style=\"display:none;\">\n",
              "\n",
              "  <svg xmlns=\"http://www.w3.org/2000/svg\" height=\"24px\" viewBox=\"0 -960 960 960\">\n",
              "    <path d=\"M120-120v-720h720v720H120Zm60-500h600v-160H180v160Zm220 220h160v-160H400v160Zm0 220h160v-160H400v160ZM180-400h160v-160H180v160Zm440 0h160v-160H620v160ZM180-180h160v-160H180v160Zm440 0h160v-160H620v160Z\"/>\n",
              "  </svg>\n",
              "    </button>\n",
              "\n",
              "  <style>\n",
              "    .colab-df-container {\n",
              "      display:flex;\n",
              "      gap: 12px;\n",
              "    }\n",
              "\n",
              "    .colab-df-convert {\n",
              "      background-color: #E8F0FE;\n",
              "      border: none;\n",
              "      border-radius: 50%;\n",
              "      cursor: pointer;\n",
              "      display: none;\n",
              "      fill: #1967D2;\n",
              "      height: 32px;\n",
              "      padding: 0 0 0 0;\n",
              "      width: 32px;\n",
              "    }\n",
              "\n",
              "    .colab-df-convert:hover {\n",
              "      background-color: #E2EBFA;\n",
              "      box-shadow: 0px 1px 2px rgba(60, 64, 67, 0.3), 0px 1px 3px 1px rgba(60, 64, 67, 0.15);\n",
              "      fill: #174EA6;\n",
              "    }\n",
              "\n",
              "    .colab-df-buttons div {\n",
              "      margin-bottom: 4px;\n",
              "    }\n",
              "\n",
              "    [theme=dark] .colab-df-convert {\n",
              "      background-color: #3B4455;\n",
              "      fill: #D2E3FC;\n",
              "    }\n",
              "\n",
              "    [theme=dark] .colab-df-convert:hover {\n",
              "      background-color: #434B5C;\n",
              "      box-shadow: 0px 1px 3px 1px rgba(0, 0, 0, 0.15);\n",
              "      filter: drop-shadow(0px 1px 2px rgba(0, 0, 0, 0.3));\n",
              "      fill: #FFFFFF;\n",
              "    }\n",
              "  </style>\n",
              "\n",
              "    <script>\n",
              "      const buttonEl =\n",
              "        document.querySelector('#df-a63268de-4ddf-42f5-92b4-b07143e30b47 button.colab-df-convert');\n",
              "      buttonEl.style.display =\n",
              "        google.colab.kernel.accessAllowed ? 'block' : 'none';\n",
              "\n",
              "      async function convertToInteractive(key) {\n",
              "        const element = document.querySelector('#df-a63268de-4ddf-42f5-92b4-b07143e30b47');\n",
              "        const dataTable =\n",
              "          await google.colab.kernel.invokeFunction('convertToInteractive',\n",
              "                                                    [key], {});\n",
              "        if (!dataTable) return;\n",
              "\n",
              "        const docLinkHtml = 'Like what you see? Visit the ' +\n",
              "          '<a target=\"_blank\" href=https://colab.research.google.com/notebooks/data_table.ipynb>data table notebook</a>'\n",
              "          + ' to learn more about interactive tables.';\n",
              "        element.innerHTML = '';\n",
              "        dataTable['output_type'] = 'display_data';\n",
              "        await google.colab.output.renderOutput(dataTable, element);\n",
              "        const docLink = document.createElement('div');\n",
              "        docLink.innerHTML = docLinkHtml;\n",
              "        element.appendChild(docLink);\n",
              "      }\n",
              "    </script>\n",
              "  </div>\n",
              "\n",
              "\n",
              "<div id=\"df-5382962f-f8e8-4ffb-975f-aaa763024b81\">\n",
              "  <button class=\"colab-df-quickchart\" onclick=\"quickchart('df-5382962f-f8e8-4ffb-975f-aaa763024b81')\"\n",
              "            title=\"Suggest charts\"\n",
              "            style=\"display:none;\">\n",
              "\n",
              "<svg xmlns=\"http://www.w3.org/2000/svg\" height=\"24px\"viewBox=\"0 0 24 24\"\n",
              "     width=\"24px\">\n",
              "    <g>\n",
              "        <path d=\"M19 3H5c-1.1 0-2 .9-2 2v14c0 1.1.9 2 2 2h14c1.1 0 2-.9 2-2V5c0-1.1-.9-2-2-2zM9 17H7v-7h2v7zm4 0h-2V7h2v10zm4 0h-2v-4h2v4z\"/>\n",
              "    </g>\n",
              "</svg>\n",
              "  </button>\n",
              "\n",
              "<style>\n",
              "  .colab-df-quickchart {\n",
              "      --bg-color: #E8F0FE;\n",
              "      --fill-color: #1967D2;\n",
              "      --hover-bg-color: #E2EBFA;\n",
              "      --hover-fill-color: #174EA6;\n",
              "      --disabled-fill-color: #AAA;\n",
              "      --disabled-bg-color: #DDD;\n",
              "  }\n",
              "\n",
              "  [theme=dark] .colab-df-quickchart {\n",
              "      --bg-color: #3B4455;\n",
              "      --fill-color: #D2E3FC;\n",
              "      --hover-bg-color: #434B5C;\n",
              "      --hover-fill-color: #FFFFFF;\n",
              "      --disabled-bg-color: #3B4455;\n",
              "      --disabled-fill-color: #666;\n",
              "  }\n",
              "\n",
              "  .colab-df-quickchart {\n",
              "    background-color: var(--bg-color);\n",
              "    border: none;\n",
              "    border-radius: 50%;\n",
              "    cursor: pointer;\n",
              "    display: none;\n",
              "    fill: var(--fill-color);\n",
              "    height: 32px;\n",
              "    padding: 0;\n",
              "    width: 32px;\n",
              "  }\n",
              "\n",
              "  .colab-df-quickchart:hover {\n",
              "    background-color: var(--hover-bg-color);\n",
              "    box-shadow: 0 1px 2px rgba(60, 64, 67, 0.3), 0 1px 3px 1px rgba(60, 64, 67, 0.15);\n",
              "    fill: var(--button-hover-fill-color);\n",
              "  }\n",
              "\n",
              "  .colab-df-quickchart-complete:disabled,\n",
              "  .colab-df-quickchart-complete:disabled:hover {\n",
              "    background-color: var(--disabled-bg-color);\n",
              "    fill: var(--disabled-fill-color);\n",
              "    box-shadow: none;\n",
              "  }\n",
              "\n",
              "  .colab-df-spinner {\n",
              "    border: 2px solid var(--fill-color);\n",
              "    border-color: transparent;\n",
              "    border-bottom-color: var(--fill-color);\n",
              "    animation:\n",
              "      spin 1s steps(1) infinite;\n",
              "  }\n",
              "\n",
              "  @keyframes spin {\n",
              "    0% {\n",
              "      border-color: transparent;\n",
              "      border-bottom-color: var(--fill-color);\n",
              "      border-left-color: var(--fill-color);\n",
              "    }\n",
              "    20% {\n",
              "      border-color: transparent;\n",
              "      border-left-color: var(--fill-color);\n",
              "      border-top-color: var(--fill-color);\n",
              "    }\n",
              "    30% {\n",
              "      border-color: transparent;\n",
              "      border-left-color: var(--fill-color);\n",
              "      border-top-color: var(--fill-color);\n",
              "      border-right-color: var(--fill-color);\n",
              "    }\n",
              "    40% {\n",
              "      border-color: transparent;\n",
              "      border-right-color: var(--fill-color);\n",
              "      border-top-color: var(--fill-color);\n",
              "    }\n",
              "    60% {\n",
              "      border-color: transparent;\n",
              "      border-right-color: var(--fill-color);\n",
              "    }\n",
              "    80% {\n",
              "      border-color: transparent;\n",
              "      border-right-color: var(--fill-color);\n",
              "      border-bottom-color: var(--fill-color);\n",
              "    }\n",
              "    90% {\n",
              "      border-color: transparent;\n",
              "      border-bottom-color: var(--fill-color);\n",
              "    }\n",
              "  }\n",
              "</style>\n",
              "\n",
              "  <script>\n",
              "    async function quickchart(key) {\n",
              "      const quickchartButtonEl =\n",
              "        document.querySelector('#' + key + ' button');\n",
              "      quickchartButtonEl.disabled = true;  // To prevent multiple clicks.\n",
              "      quickchartButtonEl.classList.add('colab-df-spinner');\n",
              "      try {\n",
              "        const charts = await google.colab.kernel.invokeFunction(\n",
              "            'suggestCharts', [key], {});\n",
              "      } catch (error) {\n",
              "        console.error('Error during call to suggestCharts:', error);\n",
              "      }\n",
              "      quickchartButtonEl.classList.remove('colab-df-spinner');\n",
              "      quickchartButtonEl.classList.add('colab-df-quickchart-complete');\n",
              "    }\n",
              "    (() => {\n",
              "      let quickchartButtonEl =\n",
              "        document.querySelector('#df-5382962f-f8e8-4ffb-975f-aaa763024b81 button');\n",
              "      quickchartButtonEl.style.display =\n",
              "        google.colab.kernel.accessAllowed ? 'block' : 'none';\n",
              "    })();\n",
              "  </script>\n",
              "</div>\n",
              "\n",
              "    </div>\n",
              "  </div>\n"
            ],
            "application/vnd.google.colaboratory.intrinsic+json": {
              "type": "dataframe",
              "variable_name": "df"
            }
          },
          "metadata": {},
          "execution_count": 6
        }
      ],
      "source": [
        "# check head of the dataset\n",
        "\n",
        "df.head(10)"
      ]
    },
    {
      "cell_type": "code",
      "execution_count": null,
      "metadata": {
        "colab": {
          "base_uri": "https://localhost:8080/"
        },
        "id": "XGgIqJMRSVYT",
        "outputId": "886a7c1d-9cd5-4c2a-fc76-f1e9f7b7a1b1"
      },
      "outputs": [
        {
          "output_type": "stream",
          "name": "stdout",
          "text": [
            "<class 'pandas.core.frame.DataFrame'>\n",
            "RangeIndex: 284807 entries, 0 to 284806\n",
            "Data columns (total 31 columns):\n",
            " #   Column  Non-Null Count   Dtype  \n",
            "---  ------  --------------   -----  \n",
            " 0   Time    284807 non-null  float64\n",
            " 1   V1      284807 non-null  float64\n",
            " 2   V2      284807 non-null  float64\n",
            " 3   V3      284807 non-null  float64\n",
            " 4   V4      284807 non-null  float64\n",
            " 5   V5      284807 non-null  float64\n",
            " 6   V6      284807 non-null  float64\n",
            " 7   V7      284807 non-null  float64\n",
            " 8   V8      284807 non-null  float64\n",
            " 9   V9      284807 non-null  float64\n",
            " 10  V10     284807 non-null  float64\n",
            " 11  V11     284807 non-null  float64\n",
            " 12  V12     284807 non-null  float64\n",
            " 13  V13     284807 non-null  float64\n",
            " 14  V14     284807 non-null  float64\n",
            " 15  V15     284807 non-null  float64\n",
            " 16  V16     284807 non-null  float64\n",
            " 17  V17     284807 non-null  float64\n",
            " 18  V18     284807 non-null  float64\n",
            " 19  V19     284807 non-null  float64\n",
            " 20  V20     284807 non-null  float64\n",
            " 21  V21     284807 non-null  float64\n",
            " 22  V22     284807 non-null  float64\n",
            " 23  V23     284807 non-null  float64\n",
            " 24  V24     284807 non-null  float64\n",
            " 25  V25     284807 non-null  float64\n",
            " 26  V26     284807 non-null  float64\n",
            " 27  V27     284807 non-null  float64\n",
            " 28  V28     284807 non-null  float64\n",
            " 29  Amount  284807 non-null  float64\n",
            " 30  Class   284807 non-null  int64  \n",
            "dtypes: float64(30), int64(1)\n",
            "memory usage: 67.4 MB\n"
          ]
        }
      ],
      "source": [
        "# check information about the dataset like - missing values, datatypes etc\n",
        "df.info()\n"
      ]
    },
    {
      "cell_type": "code",
      "execution_count": null,
      "metadata": {
        "colab": {
          "base_uri": "https://localhost:8080/",
          "height": 178
        },
        "id": "73Peh7hwSVYT",
        "outputId": "28b8080c-8ade-4a79-f7f9-8c3976815971"
      },
      "outputs": [
        {
          "output_type": "execute_result",
          "data": {
            "text/plain": [
              "Class\n",
              "0    284315\n",
              "1       492\n",
              "Name: count, dtype: int64"
            ],
            "text/html": [
              "<table border=\"1\" class=\"dataframe\">\n",
              "  <thead>\n",
              "    <tr style=\"text-align: right;\">\n",
              "      <th></th>\n",
              "      <th>count</th>\n",
              "    </tr>\n",
              "    <tr>\n",
              "      <th>Class</th>\n",
              "      <th></th>\n",
              "    </tr>\n",
              "  </thead>\n",
              "  <tbody>\n",
              "    <tr>\n",
              "      <th>0</th>\n",
              "      <td>284315</td>\n",
              "    </tr>\n",
              "    <tr>\n",
              "      <th>1</th>\n",
              "      <td>492</td>\n",
              "    </tr>\n",
              "  </tbody>\n",
              "</table><br><label><b>dtype:</b> int64</label>"
            ]
          },
          "metadata": {},
          "execution_count": 8
        }
      ],
      "source": [
        "# check the target class distribution\n",
        "df.Class.value_counts()\n"
      ]
    },
    {
      "cell_type": "code",
      "execution_count": null,
      "metadata": {
        "colab": {
          "base_uri": "https://localhost:8080/",
          "height": 718
        },
        "id": "p7EzntADSVYT",
        "outputId": "738892be-588c-46ca-a259-4559a2c099ef"
      },
      "outputs": [
        {
          "output_type": "display_data",
          "data": {
            "text/plain": [
              "<Figure size 1200x800 with 1 Axes>"
            ],
            "image/png": "[encoded data removed]"
          },
          "metadata": {}
        }
      ],
      "source": [
        "# create a visual plot to see the target distribution\n",
        "df.hist(column='Class', bins=20, grid=False, figsize=(12,8), rwidth=0.9)\n",
        "plt.xlabel('Class')\n",
        "plt.ylabel('Frequency')\n",
        "plt.title('Class Distribution')\n",
        "plt.show()\n"
      ]
    },
    {
      "cell_type": "code",
      "execution_count": null,
      "metadata": {
        "colab": {
          "base_uri": "https://localhost:8080/",
          "height": 857
        },
        "id": "yx6rpwi7SVYU",
        "outputId": "a03d65a3-9eca-4b12-8c50-810288d3f692"
      },
      "outputs": [
        {
          "output_type": "execute_result",
          "data": {
            "text/plain": [
              "array([[<Axes: title={'center': 'Time'}>, <Axes: title={'center': 'V1'}>,\n",
              "        <Axes: title={'center': 'V2'}>, <Axes: title={'center': 'V3'}>,\n",
              "        <Axes: title={'center': 'V4'}>, <Axes: title={'center': 'V5'}>],\n",
              "       [<Axes: title={'center': 'V6'}>, <Axes: title={'center': 'V7'}>,\n",
              "        <Axes: title={'center': 'V8'}>, <Axes: title={'center': 'V9'}>,\n",
              "        <Axes: title={'center': 'V10'}>, <Axes: title={'center': 'V11'}>],\n",
              "       [<Axes: title={'center': 'V12'}>, <Axes: title={'center': 'V13'}>,\n",
              "        <Axes: title={'center': 'V14'}>, <Axes: title={'center': 'V15'}>,\n",
              "        <Axes: title={'center': 'V16'}>, <Axes: title={'center': 'V17'}>],\n",
              "       [<Axes: title={'center': 'V18'}>, <Axes: title={'center': 'V19'}>,\n",
              "        <Axes: title={'center': 'V20'}>, <Axes: title={'center': 'V21'}>,\n",
              "        <Axes: title={'center': 'V22'}>, <Axes: title={'center': 'V23'}>],\n",
              "       [<Axes: title={'center': 'V24'}>, <Axes: title={'center': 'V25'}>,\n",
              "        <Axes: title={'center': 'V26'}>, <Axes: title={'center': 'V27'}>,\n",
              "        <Axes: title={'center': 'V28'}>,\n",
              "        <Axes: title={'center': 'Amount'}>],\n",
              "       [<Axes: title={'center': 'Class'}>, <Axes: >, <Axes: >, <Axes: >,\n",
              "        <Axes: >, <Axes: >]], dtype=object)"
            ]
          },
          "metadata": {},
          "execution_count": 10
        },
        {
          "output_type": "display_data",
          "data": {
            "text/plain": [
              "<Figure size 800x600 with 36 Axes>"
            ],
            "image/png": "[encoded data removed]"
          },
          "metadata": {}
        }
      ],
      "source": [
        "# create some plots based on features and see if you can see some outliers in the data\n",
        "df.hist(bins=15, figsize=(8, 6))\n"
      ]
    },
    {
      "cell_type": "code",
      "source": [
        "# create a visual plot to see the target distribution\n",
        "df.hist(column='V1', bins=80, grid=False, figsize=(5,5), rwidth=0.9)\n",
        "plt.xlabel('Values')\n",
        "plt.ylabel('Frequency')\n",
        "plt.title('V1 Distribution')\n",
        "plt.show()\n"
      ],
      "metadata": {
        "colab": {
          "base_uri": "https://localhost:8080/",
          "height": 487
        },
        "id": "KOT6ruAYcTGM",
        "outputId": "19af2c3e-d5c9-44de-af3e-ed65b40da2a5"
      },
      "execution_count": null,
      "outputs": [
        {
          "output_type": "display_data",
          "data": {
            "text/plain": [
              "<Figure size 500x500 with 1 Axes>"
            ],
            "image/png": "[encoded data removed]"
          },
          "metadata": {}
        }
      ]
    },
    {
      "cell_type": "code",
      "source": [
        "# create a visual plot to see the target distribution\n",
        "df.hist(column='V8', bins=80, grid=False, figsize=(4,4), rwidth=0.9)\n",
        "plt.xlabel('Values')\n",
        "plt.ylabel('Frequency')\n",
        "plt.title('V8 Distribution')\n",
        "plt.show()\n"
      ],
      "metadata": {
        "colab": {
          "base_uri": "https://localhost:8080/",
          "height": 410
        },
        "id": "nqlJyw5-b8D5",
        "outputId": "f55270ba-89b1-4bc4-8721-14061b80040d"
      },
      "execution_count": null,
      "outputs": [
        {
          "output_type": "display_data",
          "data": {
            "text/plain": [
              "<Figure size 400x400 with 1 Axes>"
            ],
            "image/png": "[encoded data removed]"
          },
          "metadata": {}
        }
      ]
    },
    {
      "cell_type": "code",
      "source": [
        "# create a visual plot to see the target distribution\n",
        "df.hist(column='V6', bins=80, grid=False, figsize=(4,4), rwidth=0.9)\n",
        "plt.xlabel('Values')\n",
        "plt.ylabel('Frequency')\n",
        "plt.title('V6 Distribution')\n",
        "plt.show()\n"
      ],
      "metadata": {
        "colab": {
          "base_uri": "https://localhost:8080/",
          "height": 410
        },
        "id": "wYottLANhV7E",
        "outputId": "8dcd059f-a434-45d5-cd4d-88b6094721b6"
      },
      "execution_count": null,
      "outputs": [
        {
          "output_type": "display_data",
          "data": {
            "text/plain": [
              "<Figure size 400x400 with 1 Axes>"
            ],
            "image/png": "[encoded data removed]"
          },
          "metadata": {}
        }
      ]
    },
    {
      "cell_type": "code",
      "source": [
        "# create a visual plot to see the target distribution\n",
        "df.hist(column='V20', bins=80, grid=False, figsize=(4,4), rwidth=0.9)\n",
        "plt.xlabel('Values')\n",
        "plt.ylabel('Frequency')\n",
        "plt.title('V20 Distribution')\n",
        "plt.show()\n"
      ],
      "metadata": {
        "colab": {
          "base_uri": "https://localhost:8080/",
          "height": 410
        },
        "id": "5cezfwXScG1x",
        "outputId": "592b7082-7f50-46a7-aea3-6ea9ff9452b2"
      },
      "execution_count": null,
      "outputs": [
        {
          "output_type": "display_data",
          "data": {
            "text/plain": [
              "<Figure size 400x400 with 1 Axes>"
            ],
            "image/png": "[encoded data removed]"
          },
          "metadata": {}
        }
      ]
    },
    {
      "cell_type": "code",
      "source": [
        "# create a visual plot to see the target distribution\n",
        "df.hist(column='V27', bins=80, grid=False, figsize=(4,4), rwidth=0.9)\n",
        "plt.xlabel('Values')\n",
        "plt.ylabel('Frequency')\n",
        "plt.title('V27 Distribution')\n",
        "plt.show()\n"
      ],
      "metadata": {
        "colab": {
          "base_uri": "https://localhost:8080/",
          "height": 410
        },
        "id": "o3kJRAYScJvL",
        "outputId": "a873da16-c4cb-48e0-c72a-25c44f49947c"
      },
      "execution_count": null,
      "outputs": [
        {
          "output_type": "display_data",
          "data": {
            "text/plain": [
              "<Figure size 400x400 with 1 Axes>"
            ],
            "image/png": "[encoded data removed]"
          },
          "metadata": {}
        }
      ]
    },
    {
      "cell_type": "code",
      "source": [
        "# create a visual plot to see the target distribution\n",
        "df.hist(column='Amount', bins=150, grid=False, figsize=(8,6), rwidth=0.9)\n",
        "plt.xlabel('Amount')\n",
        "plt.ylabel('Frequency')\n",
        "plt.title('Amount Distribution')\n",
        "plt.show()\n"
      ],
      "metadata": {
        "colab": {
          "base_uri": "https://localhost:8080/",
          "height": 564
        },
        "id": "moXYqot9s7pJ",
        "outputId": "366af612-f678-4848-b1c1-791889873383"
      },
      "execution_count": null,
      "outputs": [
        {
          "output_type": "display_data",
          "data": {
            "text/plain": [
              "<Figure size 800x600 with 1 Axes>"
            ],
            "image/png": "[encoded data removed]"
          },
          "metadata": {}
        }
      ]
    },
    {
      "cell_type": "markdown",
      "metadata": {
        "id": "F87gRVoVSVYU"
      },
      "source": [
        "### Evaluation metric selection"
      ]
    },
    {
      "cell_type": "code",
      "execution_count": null,
      "metadata": {
        "colab": {
          "base_uri": "https://localhost:8080/"
        },
        "id": "IbO4wXDBSVYU",
        "outputId": "a33e81dc-c0f1-4253-e6bc-d052dcbf40d0"
      },
      "outputs": [
        {
          "output_type": "execute_result",
          "data": {
            "text/plain": [
              "Class\n",
              "0    99.827\n",
              "1     0.173\n",
              "Name: proportion, dtype: float64"
            ]
          },
          "metadata": {},
          "execution_count": 4
        }
      ],
      "source": [
        "# baseline accuracy of the model\n",
        "\n",
        "round(df['Class'].value_counts(normalize=True) * 100, 3)"
      ]
    },
    {
      "cell_type": "markdown",
      "metadata": {
        "id": "p3aWIIkjSVYU"
      },
      "source": [
        "For this dataset let's consider fraudulent transactions (which are denoted as 1 in the dataset) is `positive` class and the non fraudulent transactions (which are denoted as 0 in the dataset) is `negative` class."
      ]
    },
    {
      "cell_type": "markdown",
      "metadata": {
        "id": "wZi2EgSgSVYU"
      },
      "source": [
        "- TP - transactions which are actually fraudulent and the model also able correctly identify them as fraudulent transactions\n",
        "- FP - transactions which are actually non fraudulent transactions but the model is predicting them as fraudulent transactions\n",
        "- TN - transactions which are actually non fraudulent transactions and model is also predicting them as non fraudulent transactions\n",
        "- FN - transactions which are actually fraudulent but the model is predicting them as non fraudulent transactions"
      ]
    },
    {
      "cell_type": "markdown",
      "metadata": {
        "id": "fE571QRjSVYV"
      },
      "source": [
        "$$recall = \\frac{TP}{TP + FN}$$"
      ]
    },
    {
      "cell_type": "markdown",
      "metadata": {
        "id": "6YkDU7k6SVYV"
      },
      "source": [
        "$$precision = \\frac{TP }{TP+ FP}$$"
      ]
    },
    {
      "cell_type": "markdown",
      "metadata": {
        "id": "XlDKGkikSVYV"
      },
      "source": [
        "### Baseline model"
      ]
    },
    {
      "cell_type": "code",
      "execution_count": null,
      "metadata": {
        "id": "FgVnm3ZISVYW"
      },
      "outputs": [],
      "source": [
        "# drop the Time variable as it does not have any meaningful information about the data\n",
        "indata = df.drop('Time', axis=1)\n",
        "indata = df.reset_index(drop=True)\n",
        "X = indata.drop('Class', axis=1)\n",
        "y = indata['Class']\n"
      ]
    },
    {
      "cell_type": "code",
      "source": [
        "from sklearn.preprocessing import RobustScaler"
      ],
      "metadata": {
        "id": "-yO7nvjMFIdu"
      },
      "execution_count": null,
      "outputs": []
    },
    {
      "cell_type": "code",
      "execution_count": null,
      "metadata": {
        "id": "fbqco9PRSVYW"
      },
      "outputs": [],
      "source": [
        "# split the dataset into trainig and test set to train and evaluate the model respectively\n",
        "X_train, X_test, y_train, y_test = train_test_split(X, y, test_size=0.25, random_state=42, stratify=y)\n"
      ]
    },
    {
      "cell_type": "code",
      "source": [
        "scaler = RobustScaler()\n",
        "scaler.fit(X_train)"
      ],
      "metadata": {
        "colab": {
          "base_uri": "https://localhost:8080/",
          "height": 75
        },
        "id": "-mRzcqjufXBx",
        "outputId": "84732ae8-c807-4b1c-9ed4-dc50f4857fe6"
      },
      "execution_count": null,
      "outputs": [
        {
          "output_type": "execute_result",
          "data": {
            "text/plain": [
              "RobustScaler()"
            ],
            "text/html": [
              "<style>#sk-container-id-1 {color: black;}#sk-container-id-1 pre{padding: 0;}#sk-container-id-1 div.sk-toggleable {background-color: white;}#sk-container-id-1 label.sk-toggleable__label {cursor: pointer;display: block;width: 100%;margin-bottom: 0;padding: 0.3em;box-sizing: border-box;text-align: center;}#sk-container-id-1 label.sk-toggleable__label-arrow:before {content: \"▸\";float: left;margin-right: 0.25em;color: #696969;}#sk-container-id-1 label.sk-toggleable__label-arrow:hover:before {color: black;}#sk-container-id-1 div.sk-estimator:hover label.sk-toggleable__label-arrow:before {color: black;}#sk-container-id-1 div.sk-toggleable__content {max-height: 0;max-width: 0;overflow: hidden;text-align: left;background-color: #f0f8ff;}#sk-container-id-1 div.sk-toggleable__content pre {margin: 0.2em;color: black;border-radius: 0.25em;background-color: #f0f8ff;}#sk-container-id-1 input.sk-toggleable__control:checked~div.sk-toggleable__content {max-height: 200px;max-width: 100%;overflow: auto;}#sk-container-id-1 input.sk-toggleable__control:checked~label.sk-toggleable__label-arrow:before {content: \"▾\";}#sk-container-id-1 div.sk-estimator input.sk-toggleable__control:checked~label.sk-toggleable__label {background-color: #d4ebff;}#sk-container-id-1 div.sk-label input.sk-toggleable__control:checked~label.sk-toggleable__label {background-color: #d4ebff;}#sk-container-id-1 input.sk-hidden--visually {border: 0;clip: rect(1px 1px 1px 1px);clip: rect(1px, 1px, 1px, 1px);height: 1px;margin: -1px;overflow: hidden;padding: 0;position: absolute;width: 1px;}#sk-container-id-1 div.sk-estimator {font-family: monospace;background-color: #f0f8ff;border: 1px dotted black;border-radius: 0.25em;box-sizing: border-box;margin-bottom: 0.5em;}#sk-container-id-1 div.sk-estimator:hover {background-color: #d4ebff;}#sk-container-id-1 div.sk-parallel-item::after {content: \"\";width: 100%;border-bottom: 1px solid gray;flex-grow: 1;}#sk-container-id-1 div.sk-label:hover label.sk-toggleable__label {background-color: #d4ebff;}#sk-container-id-1 div.sk-serial::before {content: \"\";position: absolute;border-left: 1px solid gray;box-sizing: border-box;top: 0;bottom: 0;left: 50%;z-index: 0;}#sk-container-id-1 div.sk-serial {display: flex;flex-direction: column;align-items: center;background-color: white;padding-right: 0.2em;padding-left: 0.2em;position: relative;}#sk-container-id-1 div.sk-item {position: relative;z-index: 1;}#sk-container-id-1 div.sk-parallel {display: flex;align-items: stretch;justify-content: center;background-color: white;position: relative;}#sk-container-id-1 div.sk-item::before, #sk-container-id-1 div.sk-parallel-item::before {content: \"\";position: absolute;border-left: 1px solid gray;box-sizing: border-box;top: 0;bottom: 0;left: 50%;z-index: -1;}#sk-container-id-1 div.sk-parallel-item {display: flex;flex-direction: column;z-index: 1;position: relative;background-color: white;}#sk-container-id-1 div.sk-parallel-item:first-child::after {align-self: flex-end;width: 50%;}#sk-container-id-1 div.sk-parallel-item:last-child::after {align-self: flex-start;width: 50%;}#sk-container-id-1 div.sk-parallel-item:only-child::after {width: 0;}#sk-container-id-1 div.sk-dashed-wrapped {border: 1px dashed gray;margin: 0 0.4em 0.5em 0.4em;box-sizing: border-box;padding-bottom: 0.4em;background-color: white;}#sk-container-id-1 div.sk-label label {font-family: monospace;font-weight: bold;display: inline-block;line-height: 1.2em;}#sk-container-id-1 div.sk-label-container {text-align: center;}#sk-container-id-1 div.sk-container {/* jupyter's `normalize.less` sets `[hidden] { display: none; }` but bootstrap.min.css set `[hidden] { display: none !important; }` so we also need the `!important` here to be able to override the default hidden behavior on the sphinx rendered scikit-learn.org. See: https://github.com/scikit-learn/scikit-learn/issues/21755 */display: inline-block !important;position: relative;}#sk-container-id-1 div.sk-text-repr-fallback {display: none;}</style><div id=\"sk-container-id-1\" class=\"sk-top-container\"><div class=\"sk-text-repr-fallback\"><pre>RobustScaler()</pre><b>In a Jupyter environment, please rerun this cell to show the HTML representation or trust the notebook. <br />On GitHub, the HTML representation is unable to render, please try loading this page with nbviewer.org.</b></div><div class=\"sk-container\" hidden><div class=\"sk-item\"><div class=\"sk-estimator sk-toggleable\"><input class=\"sk-toggleable__control sk-hidden--visually\" id=\"sk-estimator-id-1\" type=\"checkbox\" checked><label for=\"sk-estimator-id-1\" class=\"sk-toggleable__label sk-toggleable__label-arrow\">RobustScaler</label><div class=\"sk-toggleable__content\"><pre>RobustScaler()</pre></div></div></div></div></div>"
            ]
          },
          "metadata": {},
          "execution_count": 7
        }
      ]
    },
    {
      "cell_type": "code",
      "source": [
        "X_train_scaled = scaler.transform(X_train)\n",
        "X_test_scaled = scaler.transform(X_test)"
      ],
      "metadata": {
        "id": "ZrN5eTVoDteU"
      },
      "execution_count": null,
      "outputs": []
    },
    {
      "cell_type": "code",
      "source": [
        "from sklearn.ensemble import RandomForestClassifier"
      ],
      "metadata": {
        "id": "aLqZbDp3Bw-f"
      },
      "execution_count": null,
      "outputs": []
    },
    {
      "cell_type": "code",
      "execution_count": null,
      "metadata": {
        "id": "7QRSY6iFSVYW"
      },
      "outputs": [],
      "source": [
        "# create a model\n",
        "rf = RandomForestClassifier(random_state=42)"
      ]
    },
    {
      "cell_type": "code",
      "source": [
        "model = rf.fit(X_train_scaled, y_train)"
      ],
      "metadata": {
        "id": "egxhdWK0BSOO"
      },
      "execution_count": null,
      "outputs": []
    },
    {
      "cell_type": "code",
      "source": [
        "# predict for the test dataset\n",
        "preds = model.predict(X_test_scaled)"
      ],
      "metadata": {
        "id": "rUfJY0eOoHvx"
      },
      "execution_count": null,
      "outputs": []
    },
    {
      "cell_type": "code",
      "source": [
        "# plot the confusion matrix\n",
        "confusion_matrix(y_test, preds)\n",
        "sns.heatmap(confusion_matrix(y_test, preds), annot=True, fmt='d')"
      ],
      "metadata": {
        "colab": {
          "base_uri": "https://localhost:8080/",
          "height": 447
        },
        "id": "oMVRqexailkM",
        "outputId": "d10f5448-1ee7-4e83-91cd-565a1faa311e"
      },
      "execution_count": null,
      "outputs": [
        {
          "output_type": "execute_result",
          "data": {
            "text/plain": [
              "<Axes: >"
            ]
          },
          "metadata": {},
          "execution_count": 15
        },
        {
          "output_type": "display_data",
          "data": {
            "text/plain": [
              "<Figure size 640x480 with 2 Axes>"
            ],
            "image/png": "[encoded data removed]"
          },
          "metadata": {}
        }
      ]
    },
    {
      "cell_type": "code",
      "execution_count": null,
      "metadata": {
        "colab": {
          "base_uri": "https://localhost:8080/"
        },
        "id": "DDZMXU_XSVYX",
        "outputId": "2a51fdd6-01a8-4987-d618-7f9ada3e743a"
      },
      "outputs": [
        {
          "output_type": "execute_result",
          "data": {
            "text/plain": [
              "array([[71073,     6],\n",
              "       [   24,    99]])"
            ]
          },
          "metadata": {},
          "execution_count": 56
        }
      ],
      "source": [
        "# plot the confusion matrix\n",
        "confusion_matrix(y_test, preds)\n"
      ]
    },
    {
      "cell_type": "code",
      "execution_count": null,
      "metadata": {
        "colab": {
          "base_uri": "https://localhost:8080/"
        },
        "id": "SW74z-DASVYX",
        "outputId": "4a02727d-5d88-4351-dabc-24dbfd449cb5"
      },
      "outputs": [
        {
          "output_type": "stream",
          "name": "stdout",
          "text": [
            "              precision    recall  f1-score   support\n",
            "\n",
            "           0       1.00      1.00      1.00     71079\n",
            "           1       0.94      0.80      0.87       123\n",
            "\n",
            "    accuracy                           1.00     71202\n",
            "   macro avg       0.97      0.90      0.93     71202\n",
            "weighted avg       1.00      1.00      1.00     71202\n",
            "\n"
          ]
        }
      ],
      "source": [
        "# print the classification report\n",
        "print(classification_report(y_test, preds))\n"
      ]
    },
    {
      "cell_type": "markdown",
      "metadata": {
        "id": "wqHmhXN8SVYX"
      },
      "source": [
        "### Resampling techniques for imbalanced data"
      ]
    },
    {
      "cell_type": "markdown",
      "metadata": {
        "id": "lhrThUjfSVYX"
      },
      "source": [
        "The imbalanced datasets are generally biased towards the majority class of the target variable. In this case the majority class is non fraudulent transactions and the minority class is fraudulent transactions. Hence if we don't balance these two classes the machine learning algorithms will be biased towards the majority class. Therefore it becomes important to balance the classes present in target variables. There are two ways in which we can balance these two categories -\n",
        "\n",
        "- **Undersampling**: In undersampling we randomly select as many observations of majority class as we have for minority class to make both of these classes balanced\n",
        "- **Oversampling**: In oversampling, we create multiple copies of minority class to have same number of observations as we have for majority class. Here also we can oversampling in two ways -\n",
        "    - **Minotiy Oversampling**: here we create duplicates of same data from minority class\n",
        "    - **SMOTE (Synthetic Minority Oversampling Technique)**: here we create observations for the minority class, based on those that already exist. It randomly picks a point from the minority class and computes the k-nearest neighbors for this point. The synthetic points are added between the chosen point and its neighbors."
      ]
    },
    {
      "cell_type": "markdown",
      "source": [
        "**To prevent Data Leakage, We will apply the resampling techniques on the splitted data X_train and y_train.**"
      ],
      "metadata": {
        "id": "QRF0cm08-Inm"
      }
    },
    {
      "cell_type": "markdown",
      "metadata": {
        "id": "5UM6cdVUSVYY"
      },
      "source": [
        "#### Synthetic Minority Oversampling Technique (SMOTE)"
      ]
    },
    {
      "cell_type": "code",
      "execution_count": null,
      "metadata": {
        "id": "znPvA-l1SVYY"
      },
      "outputs": [],
      "source": [
        "# import imblearn library and resample the original data using SMOTE technique\n",
        "from imblearn.over_sampling import SMOTE\n",
        "smote = SMOTE(random_state=42)\n",
        "X_train_smote, y_train_smote = smote.fit_resample(X_train_scaled, y_train)\n",
        "\n"
      ]
    },
    {
      "cell_type": "code",
      "source": [
        "X_train_smote.shape, y_train_smote.shape"
      ],
      "metadata": {
        "colab": {
          "base_uri": "https://localhost:8080/"
        },
        "id": "8TURnp75Iqw8",
        "outputId": "a9d68fc5-fd87-4bab-ee80-eda3372cabc6"
      },
      "execution_count": null,
      "outputs": [
        {
          "output_type": "execute_result",
          "data": {
            "text/plain": [
              "((426472, 30), (426472,))"
            ]
          },
          "metadata": {},
          "execution_count": 59
        }
      ]
    },
    {
      "cell_type": "code",
      "source": [
        "y_train_smote.value_counts()"
      ],
      "metadata": {
        "colab": {
          "base_uri": "https://localhost:8080/",
          "height": 178
        },
        "id": "m1svOtIOIwVj",
        "outputId": "71b1c053-b11a-47c5-b077-bd4c4bf0bd35"
      },
      "execution_count": null,
      "outputs": [
        {
          "output_type": "execute_result",
          "data": {
            "text/plain": [
              "Class\n",
              "0    213236\n",
              "1    213236\n",
              "Name: count, dtype: int64"
            ],
            "text/html": [
              "<table border=\"1\" class=\"dataframe\">\n",
              "  <thead>\n",
              "    <tr style=\"text-align: right;\">\n",
              "      <th></th>\n",
              "      <th>count</th>\n",
              "    </tr>\n",
              "    <tr>\n",
              "      <th>Class</th>\n",
              "      <th></th>\n",
              "    </tr>\n",
              "  </thead>\n",
              "  <tbody>\n",
              "    <tr>\n",
              "      <th>0</th>\n",
              "      <td>213236</td>\n",
              "    </tr>\n",
              "    <tr>\n",
              "      <th>1</th>\n",
              "      <td>213236</td>\n",
              "    </tr>\n",
              "  </tbody>\n",
              "</table><br><label><b>dtype:</b> int64</label>"
            ]
          },
          "metadata": {},
          "execution_count": 60
        }
      ]
    },
    {
      "cell_type": "code",
      "execution_count": null,
      "metadata": {
        "colab": {
          "base_uri": "https://localhost:8080/",
          "height": 75
        },
        "id": "F9QEhVLtSVYY",
        "outputId": "f3fcc852-6f4f-4224-f76e-7c7d4599d284"
      },
      "outputs": [
        {
          "output_type": "execute_result",
          "data": {
            "text/plain": [
              "RandomForestClassifier(random_state=42)"
            ],
            "text/html": [
              "<style>#sk-container-id-4 {color: black;}#sk-container-id-4 pre{padding: 0;}#sk-container-id-4 div.sk-toggleable {background-color: white;}#sk-container-id-4 label.sk-toggleable__label {cursor: pointer;display: block;width: 100%;margin-bottom: 0;padding: 0.3em;box-sizing: border-box;text-align: center;}#sk-container-id-4 label.sk-toggleable__label-arrow:before {content: \"▸\";float: left;margin-right: 0.25em;color: #696969;}#sk-container-id-4 label.sk-toggleable__label-arrow:hover:before {color: black;}#sk-container-id-4 div.sk-estimator:hover label.sk-toggleable__label-arrow:before {color: black;}#sk-container-id-4 div.sk-toggleable__content {max-height: 0;max-width: 0;overflow: hidden;text-align: left;background-color: #f0f8ff;}#sk-container-id-4 div.sk-toggleable__content pre {margin: 0.2em;color: black;border-radius: 0.25em;background-color: #f0f8ff;}#sk-container-id-4 input.sk-toggleable__control:checked~div.sk-toggleable__content {max-height: 200px;max-width: 100%;overflow: auto;}#sk-container-id-4 input.sk-toggleable__control:checked~label.sk-toggleable__label-arrow:before {content: \"▾\";}#sk-container-id-4 div.sk-estimator input.sk-toggleable__control:checked~label.sk-toggleable__label {background-color: #d4ebff;}#sk-container-id-4 div.sk-label input.sk-toggleable__control:checked~label.sk-toggleable__label {background-color: #d4ebff;}#sk-container-id-4 input.sk-hidden--visually {border: 0;clip: rect(1px 1px 1px 1px);clip: rect(1px, 1px, 1px, 1px);height: 1px;margin: -1px;overflow: hidden;padding: 0;position: absolute;width: 1px;}#sk-container-id-4 div.sk-estimator {font-family: monospace;background-color: #f0f8ff;border: 1px dotted black;border-radius: 0.25em;box-sizing: border-box;margin-bottom: 0.5em;}#sk-container-id-4 div.sk-estimator:hover {background-color: #d4ebff;}#sk-container-id-4 div.sk-parallel-item::after {content: \"\";width: 100%;border-bottom: 1px solid gray;flex-grow: 1;}#sk-container-id-4 div.sk-label:hover label.sk-toggleable__label {background-color: #d4ebff;}#sk-container-id-4 div.sk-serial::before {content: \"\";position: absolute;border-left: 1px solid gray;box-sizing: border-box;top: 0;bottom: 0;left: 50%;z-index: 0;}#sk-container-id-4 div.sk-serial {display: flex;flex-direction: column;align-items: center;background-color: white;padding-right: 0.2em;padding-left: 0.2em;position: relative;}#sk-container-id-4 div.sk-item {position: relative;z-index: 1;}#sk-container-id-4 div.sk-parallel {display: flex;align-items: stretch;justify-content: center;background-color: white;position: relative;}#sk-container-id-4 div.sk-item::before, #sk-container-id-4 div.sk-parallel-item::before {content: \"\";position: absolute;border-left: 1px solid gray;box-sizing: border-box;top: 0;bottom: 0;left: 50%;z-index: -1;}#sk-container-id-4 div.sk-parallel-item {display: flex;flex-direction: column;z-index: 1;position: relative;background-color: white;}#sk-container-id-4 div.sk-parallel-item:first-child::after {align-self: flex-end;width: 50%;}#sk-container-id-4 div.sk-parallel-item:last-child::after {align-self: flex-start;width: 50%;}#sk-container-id-4 div.sk-parallel-item:only-child::after {width: 0;}#sk-container-id-4 div.sk-dashed-wrapped {border: 1px dashed gray;margin: 0 0.4em 0.5em 0.4em;box-sizing: border-box;padding-bottom: 0.4em;background-color: white;}#sk-container-id-4 div.sk-label label {font-family: monospace;font-weight: bold;display: inline-block;line-height: 1.2em;}#sk-container-id-4 div.sk-label-container {text-align: center;}#sk-container-id-4 div.sk-container {/* jupyter's `normalize.less` sets `[hidden] { display: none; }` but bootstrap.min.css set `[hidden] { display: none !important; }` so we also need the `!important` here to be able to override the default hidden behavior on the sphinx rendered scikit-learn.org. See: https://github.com/scikit-learn/scikit-learn/issues/21755 */display: inline-block !important;position: relative;}#sk-container-id-4 div.sk-text-repr-fallback {display: none;}</style><div id=\"sk-container-id-4\" class=\"sk-top-container\"><div class=\"sk-text-repr-fallback\"><pre>RandomForestClassifier(random_state=42)</pre><b>In a Jupyter environment, please rerun this cell to show the HTML representation or trust the notebook. <br />On GitHub, the HTML representation is unable to render, please try loading this page with nbviewer.org.</b></div><div class=\"sk-container\" hidden><div class=\"sk-item\"><div class=\"sk-estimator sk-toggleable\"><input class=\"sk-toggleable__control sk-hidden--visually\" id=\"sk-estimator-id-4\" type=\"checkbox\" checked><label for=\"sk-estimator-id-4\" class=\"sk-toggleable__label sk-toggleable__label-arrow\">RandomForestClassifier</label><div class=\"sk-toggleable__content\"><pre>RandomForestClassifier(random_state=42)</pre></div></div></div></div></div>"
            ]
          },
          "metadata": {},
          "execution_count": 61
        }
      ],
      "source": [
        "# train a random forest model on SMOTE data\n",
        "rf_smote = RandomForestClassifier(random_state=42)\n",
        "rf_smote.fit(X_train_smote, y_train_smote)\n",
        "\n"
      ]
    },
    {
      "cell_type": "code",
      "execution_count": null,
      "metadata": {
        "colab": {
          "base_uri": "https://localhost:8080/"
        },
        "id": "-ClShzD6SVYY",
        "outputId": "9aed6c60-0db8-4d1f-e6dd-7991de8e8aa8"
      },
      "outputs": [
        {
          "output_type": "execute_result",
          "data": {
            "text/plain": [
              "array([[71063,    16],\n",
              "       [   23,   100]])"
            ]
          },
          "metadata": {},
          "execution_count": 62
        }
      ],
      "source": [
        "# predict the classes on test data using model built on SMOTE data and plot the confusion matrix\n",
        "preds_smote = rf_smote.predict(X_test_scaled)\n",
        "confusion_matrix(y_test, preds_smote)\n",
        "\n"
      ]
    },
    {
      "cell_type": "code",
      "execution_count": null,
      "metadata": {
        "colab": {
          "base_uri": "https://localhost:8080/"
        },
        "id": "36OD2T8ASVYZ",
        "outputId": "ab5c54c0-73a5-4736-d744-d5a944cff4d6"
      },
      "outputs": [
        {
          "output_type": "stream",
          "name": "stdout",
          "text": [
            "              precision    recall  f1-score   support\n",
            "\n",
            "           0       1.00      1.00      1.00     71079\n",
            "           1       0.86      0.81      0.84       123\n",
            "\n",
            "    accuracy                           1.00     71202\n",
            "   macro avg       0.93      0.91      0.92     71202\n",
            "weighted avg       1.00      1.00      1.00     71202\n",
            "\n"
          ]
        }
      ],
      "source": [
        "# print the classification report\n",
        "print(classification_report(y_test, preds_smote))\n",
        "\n"
      ]
    },
    {
      "cell_type": "markdown",
      "source": [
        "#### **---------SMOTENN-------------**"
      ],
      "metadata": {
        "id": "4e9cUkzDwonr"
      }
    },
    {
      "cell_type": "code",
      "source": [
        "from imblearn.combine import SMOTEENN"
      ],
      "metadata": {
        "id": "v6cZb1vBwoBm"
      },
      "execution_count": null,
      "outputs": []
    },
    {
      "cell_type": "code",
      "source": [
        "sme = SMOTEENN(random_state=42)\n",
        "X_res, y_res = sme.fit_resample(X_train_scaled, y_train)"
      ],
      "metadata": {
        "id": "xfaOGLnBxn1p"
      },
      "execution_count": null,
      "outputs": []
    },
    {
      "cell_type": "code",
      "source": [],
      "metadata": {
        "id": "_cGvkH7vWIhT"
      },
      "execution_count": null,
      "outputs": []
    },
    {
      "cell_type": "code",
      "source": [
        "y_res.value_counts()"
      ],
      "metadata": {
        "colab": {
          "base_uri": "https://localhost:8080/"
        },
        "id": "Db1Yjmi03eQ-",
        "outputId": "dc81b898-951f-4fce-c3dc-e8e80157e91d"
      },
      "execution_count": null,
      "outputs": [
        {
          "output_type": "execute_result",
          "data": {
            "text/plain": [
              "Class\n",
              "1    213236\n",
              "0    212737\n",
              "Name: count, dtype: int64"
            ]
          },
          "metadata": {},
          "execution_count": 19
        }
      ]
    },
    {
      "cell_type": "code",
      "source": [
        "# train a random forest model on SMOTE data\n",
        "rf_smoteenn = RandomForestClassifier(random_state=42)\n",
        "rf_smoteenn.fit(X_res, y_res)\n",
        "preds_smoteenn = rf_smoteenn.predict(X_test_scaled)\n",
        "confusion_matrix(y_test, preds_smoteenn)\n",
        "\n",
        "\n"
      ],
      "metadata": {
        "colab": {
          "base_uri": "https://localhost:8080/"
        },
        "id": "pLDQpRIC3XSw",
        "outputId": "8beece1e-6189-447c-969f-691365062a4a"
      },
      "execution_count": null,
      "outputs": [
        {
          "output_type": "execute_result",
          "data": {
            "text/plain": [
              "array([[71054,    25],\n",
              "       [   22,   101]])"
            ]
          },
          "metadata": {},
          "execution_count": 19
        }
      ]
    },
    {
      "cell_type": "code",
      "source": [
        "print(classification_report(y_test, preds_smoteenn))"
      ],
      "metadata": {
        "colab": {
          "base_uri": "https://localhost:8080/"
        },
        "id": "-uSeZlMH65vL",
        "outputId": "0684bbc3-2253-473f-fdbb-fc804b51adb0"
      },
      "execution_count": null,
      "outputs": [
        {
          "output_type": "stream",
          "name": "stdout",
          "text": [
            "              precision    recall  f1-score   support\n",
            "\n",
            "           0       1.00      1.00      1.00     71079\n",
            "           1       0.80      0.82      0.81       123\n",
            "\n",
            "    accuracy                           1.00     71202\n",
            "   macro avg       0.90      0.91      0.91     71202\n",
            "weighted avg       1.00      1.00      1.00     71202\n",
            "\n"
          ]
        }
      ]
    },
    {
      "cell_type": "markdown",
      "source": [
        "**SMOTE-Tomek Implementation**"
      ],
      "metadata": {
        "id": "IpzNNbyK-o2u"
      }
    },
    {
      "cell_type": "code",
      "source": [
        "from imblearn.over_sampling import SMOTE\n",
        "from imblearn.under_sampling import TomekLinks"
      ],
      "metadata": {
        "id": "HySwgOeE-ttC"
      },
      "execution_count": null,
      "outputs": []
    },
    {
      "cell_type": "code",
      "source": [
        "# Apply SMOTE\n",
        "smt = SMOTE(random_state=42)\n",
        "X_smt, y_smt = smt.fit_resample(X_train_scaled, y_train)\n",
        "\n",
        "# Apply Tomek Links\n",
        "tl = TomekLinks()\n",
        "X_resampled, y_resampled = tl.fit_resample(X_smt, y_smt)\n"
      ],
      "metadata": {
        "id": "J439eAVl-tw5"
      },
      "execution_count": null,
      "outputs": []
    },
    {
      "cell_type": "code",
      "source": [
        "y_resampled.value_counts()"
      ],
      "metadata": {
        "colab": {
          "base_uri": "https://localhost:8080/",
          "height": 178
        },
        "id": "6Ab8dopy-tzm",
        "outputId": "0547a6c4-cbea-417f-9d20-30f98f59d243"
      },
      "execution_count": null,
      "outputs": [
        {
          "output_type": "execute_result",
          "data": {
            "text/plain": [
              "Class\n",
              "0    213236\n",
              "1    213236\n",
              "Name: count, dtype: int64"
            ],
            "text/html": [
              "<table border=\"1\" class=\"dataframe\">\n",
              "  <thead>\n",
              "    <tr style=\"text-align: right;\">\n",
              "      <th></th>\n",
              "      <th>count</th>\n",
              "    </tr>\n",
              "    <tr>\n",
              "      <th>Class</th>\n",
              "      <th></th>\n",
              "    </tr>\n",
              "  </thead>\n",
              "  <tbody>\n",
              "    <tr>\n",
              "      <th>0</th>\n",
              "      <td>213236</td>\n",
              "    </tr>\n",
              "    <tr>\n",
              "      <th>1</th>\n",
              "      <td>213236</td>\n",
              "    </tr>\n",
              "  </tbody>\n",
              "</table><br><label><b>dtype:</b> int64</label>"
            ]
          },
          "metadata": {},
          "execution_count": 77
        }
      ]
    },
    {
      "cell_type": "code",
      "source": [
        "# train a random forest model on SMOTE data\n",
        "rf_tomek = RandomForestClassifier(random_state=42)\n",
        "rf_tomek.fit(X_resampled, y_resampled)\n",
        "\n",
        "# Predict\n",
        "preds_tome = rf_tomek.predict(X_test_scaled)\n",
        "confusion_matrix(y_test, preds_tome)\n",
        "\n",
        "\n"
      ],
      "metadata": {
        "colab": {
          "base_uri": "https://localhost:8080/"
        },
        "id": "l0KiaolmEkqJ",
        "outputId": "47559d7e-9311-4e71-b653-fa93adcecd8b"
      },
      "execution_count": null,
      "outputs": [
        {
          "output_type": "execute_result",
          "data": {
            "text/plain": [
              "array([[71063,    16],\n",
              "       [   23,   100]])"
            ]
          },
          "metadata": {},
          "execution_count": 79
        }
      ]
    },
    {
      "cell_type": "code",
      "source": [],
      "metadata": {
        "id": "Q0ELzvFKMzuI"
      },
      "execution_count": null,
      "outputs": []
    },
    {
      "cell_type": "markdown",
      "source": [
        "**Random Under Sampling**"
      ],
      "metadata": {
        "id": "9caJe1UDNFe9"
      }
    },
    {
      "cell_type": "code",
      "source": [
        "from imblearn.under_sampling import RandomUnderSampler"
      ],
      "metadata": {
        "id": "0XOsyK0iMz7a"
      },
      "execution_count": null,
      "outputs": []
    },
    {
      "cell_type": "code",
      "source": [
        "rus = RandomUnderSampler(random_state=42)\n",
        "\n",
        "# Fit and resample the data\n",
        "X_rus, y_rus = rus.fit_resample(X_train_scaled, y_train)"
      ],
      "metadata": {
        "id": "XUpE9_onM6VT"
      },
      "execution_count": null,
      "outputs": []
    },
    {
      "cell_type": "code",
      "source": [
        "# train a random forest model on SMOTE data\n",
        "rus_model = RandomForestClassifier(random_state=42)\n",
        "rus_model.fit(X_rus, y_rus)\n",
        "\n",
        "# Predict\n",
        "preds_rus = rf_tomek.predict(X_test_scaled)\n",
        "confusion_matrix(y_test, preds_rus)\n",
        "\n",
        "\n"
      ],
      "metadata": {
        "colab": {
          "base_uri": "https://localhost:8080/"
        },
        "id": "2u4iK6JEM6a5",
        "outputId": "b006750f-ecc1-41dd-c3c7-dab8587517c6"
      },
      "execution_count": null,
      "outputs": [
        {
          "output_type": "execute_result",
          "data": {
            "text/plain": [
              "array([[71063,    16],\n",
              "       [   23,   100]])"
            ]
          },
          "metadata": {},
          "execution_count": 82
        }
      ]
    },
    {
      "cell_type": "markdown",
      "source": [
        "#### **Model Selection**"
      ],
      "metadata": {
        "id": "d1Dtys38V6n0"
      }
    },
    {
      "cell_type": "code",
      "source": [
        "xtrain = X_res\n",
        "ytrain = y_res\n",
        "xtest = X_test_scaled\n",
        "ytest = y_test"
      ],
      "metadata": {
        "id": "YcWtTfwkV_Ey"
      },
      "execution_count": null,
      "outputs": []
    },
    {
      "cell_type": "code",
      "source": [
        "from sklearn.ensemble import ExtraTreesClassifier\n",
        "from sklearn.linear_model import (LogisticRegression, RidgeClassifier)\n",
        "from sklearn.neighbors import NearestCentroid\n",
        "\n"
      ],
      "metadata": {
        "id": "3kWRvpKbV_Ng"
      },
      "execution_count": null,
      "outputs": []
    },
    {
      "cell_type": "code",
      "source": [
        "extra = ExtraTreesClassifier(random_state=42)\n",
        "log_reg = LogisticRegression(random_state=42)\n",
        "ridge = RidgeClassifier(random_state=42)\n",
        "nearest = NearestCentroid()"
      ],
      "metadata": {
        "id": "wGOYyClocAP1"
      },
      "execution_count": null,
      "outputs": []
    },
    {
      "cell_type": "code",
      "source": [
        "models = [extra, log_reg, ridge, nearest]\n",
        "for model in models:\n",
        "    model.fit(xtrain, ytrain)\n",
        "    preds = model.predict(xtest)\n",
        "    print(model)\n",
        "    print(confusion_matrix(ytest, preds))\n",
        "    print(classification_report(ytest, preds))"
      ],
      "metadata": {
        "colab": {
          "base_uri": "https://localhost:8080/"
        },
        "id": "VXxzfh0CcAUt",
        "outputId": "c464df38-cdfe-4652-e032-014dd26e46d7"
      },
      "execution_count": null,
      "outputs": [
        {
          "output_type": "stream",
          "name": "stdout",
          "text": [
            "ExtraTreesClassifier(random_state=42)\n",
            "[[71053    26]\n",
            " [   21   102]]\n",
            "              precision    recall  f1-score   support\n",
            "\n",
            "           0       1.00      1.00      1.00     71079\n",
            "           1       0.80      0.83      0.81       123\n",
            "\n",
            "    accuracy                           1.00     71202\n",
            "   macro avg       0.90      0.91      0.91     71202\n",
            "weighted avg       1.00      1.00      1.00     71202\n",
            "\n"
          ]
        },
        {
          "output_type": "stream",
          "name": "stderr",
          "text": [
            "/usr/local/lib/python3.10/dist-packages/sklearn/linear_model/_logistic.py:460: ConvergenceWarning: lbfgs failed to converge (status=1):\n",
            "STOP: TOTAL NO. of ITERATIONS REACHED LIMIT.\n",
            "\n",
            "Increase the number of iterations (max_iter) or scale the data as shown in:\n",
            "    https://scikit-learn.org/stable/modules/preprocessing.html\n",
            "Please also refer to the documentation for alternative solver options:\n",
            "    https://scikit-learn.org/stable/modules/linear_model.html#logistic-regression\n",
            "  n_iter_i = _check_optimize_result(\n"
          ]
        },
        {
          "output_type": "stream",
          "name": "stdout",
          "text": [
            "LogisticRegression(random_state=42)\n",
            "[[69313  1766]\n",
            " [   14   109]]\n",
            "              precision    recall  f1-score   support\n",
            "\n",
            "           0       1.00      0.98      0.99     71079\n",
            "           1       0.06      0.89      0.11       123\n",
            "\n",
            "    accuracy                           0.98     71202\n",
            "   macro avg       0.53      0.93      0.55     71202\n",
            "weighted avg       1.00      0.98      0.99     71202\n",
            "\n",
            "RidgeClassifier(random_state=42)\n",
            "[[70131   948]\n",
            " [   22   101]]\n",
            "              precision    recall  f1-score   support\n",
            "\n",
            "           0       1.00      0.99      0.99     71079\n",
            "           1       0.10      0.82      0.17       123\n",
            "\n",
            "    accuracy                           0.99     71202\n",
            "   macro avg       0.55      0.90      0.58     71202\n",
            "weighted avg       1.00      0.99      0.99     71202\n",
            "\n",
            "NearestCentroid()\n",
            "[[71060    19]\n",
            " [   32    91]]\n",
            "              precision    recall  f1-score   support\n",
            "\n",
            "           0       1.00      1.00      1.00     71079\n",
            "           1       0.83      0.74      0.78       123\n",
            "\n",
            "    accuracy                           1.00     71202\n",
            "   macro avg       0.91      0.87      0.89     71202\n",
            "weighted avg       1.00      1.00      1.00     71202\n",
            "\n"
          ]
        }
      ]
    },
    {
      "cell_type": "code",
      "source": [
        "# Hyperparameters Tuning for Logistic Regression\n",
        "# Define parameter grid\n",
        "param_grid = {\n",
        "    'C': [0.001, 0.01, 0.1, 1, 10, 100],\n",
        "    'penalty': ['l1', 'l2'],\n",
        "    'solver': ['liblinear', 'saga']\n",
        "}\n",
        "\n"
      ],
      "metadata": {
        "id": "0eGRV8MacAkm"
      },
      "execution_count": null,
      "outputs": []
    },
    {
      "cell_type": "code",
      "source": [
        "from sklearn.model_selection import GridSearchCV\n",
        "\n",
        "# Create a logistic regression model\n",
        "log_reg = LogisticRegression()\n",
        "\n",
        "# Create a GridSearchCV object with recall as scoring metric\n",
        "grid_search = GridSearchCV(estimator=log_reg, param_grid=param_grid, scoring='recall', cv=5)\n",
        "\n",
        "# Fit the grid search to the data\n",
        "grid_search.fit(xtrain, ytrain)\n",
        "\n",
        "# Print the best parameters and best score\n",
        "print(grid_search.best_params_)\n",
        "print(grid_search.best_score_)\n",
        "\n"
      ],
      "metadata": {
        "colab": {
          "base_uri": "https://localhost:8080/"
        },
        "collapsed": true,
        "id": "yC-0ar7e-OVw",
        "outputId": "1e30322c-617a-4f3b-f8d4-38d4667bfbad"
      },
      "execution_count": null,
      "outputs": [
        {
          "output_type": "stream",
          "name": "stderr",
          "text": [
            "/usr/local/lib/python3.10/dist-packages/sklearn/linear_model/_sag.py:350: ConvergenceWarning: The max_iter was reached which means the coef_ did not converge\n",
            "  warnings.warn(\n",
            "/usr/local/lib/python3.10/dist-packages/sklearn/linear_model/_sag.py:350: ConvergenceWarning: The max_iter was reached which means the coef_ did not converge\n",
            "  warnings.warn(\n",
            "/usr/local/lib/python3.10/dist-packages/sklearn/linear_model/_sag.py:350: ConvergenceWarning: The max_iter was reached which means the coef_ did not converge\n",
            "  warnings.warn(\n",
            "/usr/local/lib/python3.10/dist-packages/sklearn/linear_model/_sag.py:350: ConvergenceWarning: The max_iter was reached which means the coef_ did not converge\n",
            "  warnings.warn(\n",
            "/usr/local/lib/python3.10/dist-packages/sklearn/linear_model/_sag.py:350: ConvergenceWarning: The max_iter was reached which means the coef_ did not converge\n",
            "  warnings.warn(\n",
            "/usr/local/lib/python3.10/dist-packages/sklearn/linear_model/_sag.py:350: ConvergenceWarning: The max_iter was reached which means the coef_ did not converge\n",
            "  warnings.warn(\n",
            "/usr/local/lib/python3.10/dist-packages/sklearn/linear_model/_sag.py:350: ConvergenceWarning: The max_iter was reached which means the coef_ did not converge\n",
            "  warnings.warn(\n",
            "/usr/local/lib/python3.10/dist-packages/sklearn/linear_model/_sag.py:350: ConvergenceWarning: The max_iter was reached which means the coef_ did not converge\n",
            "  warnings.warn(\n",
            "/usr/local/lib/python3.10/dist-packages/sklearn/linear_model/_sag.py:350: ConvergenceWarning: The max_iter was reached which means the coef_ did not converge\n",
            "  warnings.warn(\n",
            "/usr/local/lib/python3.10/dist-packages/sklearn/linear_model/_sag.py:350: ConvergenceWarning: The max_iter was reached which means the coef_ did not converge\n",
            "  warnings.warn(\n",
            "/usr/local/lib/python3.10/dist-packages/sklearn/linear_model/_sag.py:350: ConvergenceWarning: The max_iter was reached which means the coef_ did not converge\n",
            "  warnings.warn(\n",
            "/usr/local/lib/python3.10/dist-packages/sklearn/linear_model/_sag.py:350: ConvergenceWarning: The max_iter was reached which means the coef_ did not converge\n",
            "  warnings.warn(\n",
            "/usr/local/lib/python3.10/dist-packages/sklearn/linear_model/_sag.py:350: ConvergenceWarning: The max_iter was reached which means the coef_ did not converge\n",
            "  warnings.warn(\n",
            "/usr/local/lib/python3.10/dist-packages/sklearn/linear_model/_sag.py:350: ConvergenceWarning: The max_iter was reached which means the coef_ did not converge\n",
            "  warnings.warn(\n",
            "/usr/local/lib/python3.10/dist-packages/sklearn/linear_model/_sag.py:350: ConvergenceWarning: The max_iter was reached which means the coef_ did not converge\n",
            "  warnings.warn(\n",
            "/usr/local/lib/python3.10/dist-packages/sklearn/linear_model/_sag.py:350: ConvergenceWarning: The max_iter was reached which means the coef_ did not converge\n",
            "  warnings.warn(\n",
            "/usr/local/lib/python3.10/dist-packages/sklearn/linear_model/_sag.py:350: ConvergenceWarning: The max_iter was reached which means the coef_ did not converge\n",
            "  warnings.warn(\n",
            "/usr/local/lib/python3.10/dist-packages/sklearn/linear_model/_sag.py:350: ConvergenceWarning: The max_iter was reached which means the coef_ did not converge\n",
            "  warnings.warn(\n",
            "/usr/local/lib/python3.10/dist-packages/sklearn/linear_model/_sag.py:350: ConvergenceWarning: The max_iter was reached which means the coef_ did not converge\n",
            "  warnings.warn(\n",
            "/usr/local/lib/python3.10/dist-packages/sklearn/linear_model/_sag.py:350: ConvergenceWarning: The max_iter was reached which means the coef_ did not converge\n",
            "  warnings.warn(\n",
            "/usr/local/lib/python3.10/dist-packages/sklearn/linear_model/_sag.py:350: ConvergenceWarning: The max_iter was reached which means the coef_ did not converge\n",
            "  warnings.warn(\n",
            "/usr/local/lib/python3.10/dist-packages/sklearn/linear_model/_sag.py:350: ConvergenceWarning: The max_iter was reached which means the coef_ did not converge\n",
            "  warnings.warn(\n",
            "/usr/local/lib/python3.10/dist-packages/sklearn/linear_model/_sag.py:350: ConvergenceWarning: The max_iter was reached which means the coef_ did not converge\n",
            "  warnings.warn(\n",
            "/usr/local/lib/python3.10/dist-packages/sklearn/linear_model/_sag.py:350: ConvergenceWarning: The max_iter was reached which means the coef_ did not converge\n",
            "  warnings.warn(\n",
            "/usr/local/lib/python3.10/dist-packages/sklearn/linear_model/_sag.py:350: ConvergenceWarning: The max_iter was reached which means the coef_ did not converge\n",
            "  warnings.warn(\n",
            "/usr/local/lib/python3.10/dist-packages/sklearn/linear_model/_sag.py:350: ConvergenceWarning: The max_iter was reached which means the coef_ did not converge\n",
            "  warnings.warn(\n",
            "/usr/local/lib/python3.10/dist-packages/sklearn/linear_model/_sag.py:350: ConvergenceWarning: The max_iter was reached which means the coef_ did not converge\n",
            "  warnings.warn(\n",
            "/usr/local/lib/python3.10/dist-packages/sklearn/linear_model/_sag.py:350: ConvergenceWarning: The max_iter was reached which means the coef_ did not converge\n",
            "  warnings.warn(\n",
            "/usr/local/lib/python3.10/dist-packages/sklearn/linear_model/_sag.py:350: ConvergenceWarning: The max_iter was reached which means the coef_ did not converge\n",
            "  warnings.warn(\n",
            "/usr/local/lib/python3.10/dist-packages/sklearn/linear_model/_sag.py:350: ConvergenceWarning: The max_iter was reached which means the coef_ did not converge\n",
            "  warnings.warn(\n",
            "/usr/local/lib/python3.10/dist-packages/sklearn/linear_model/_sag.py:350: ConvergenceWarning: The max_iter was reached which means the coef_ did not converge\n",
            "  warnings.warn(\n",
            "/usr/local/lib/python3.10/dist-packages/sklearn/linear_model/_sag.py:350: ConvergenceWarning: The max_iter was reached which means the coef_ did not converge\n",
            "  warnings.warn(\n",
            "/usr/local/lib/python3.10/dist-packages/sklearn/linear_model/_sag.py:350: ConvergenceWarning: The max_iter was reached which means the coef_ did not converge\n",
            "  warnings.warn(\n",
            "/usr/local/lib/python3.10/dist-packages/sklearn/linear_model/_sag.py:350: ConvergenceWarning: The max_iter was reached which means the coef_ did not converge\n",
            "  warnings.warn(\n",
            "/usr/local/lib/python3.10/dist-packages/sklearn/linear_model/_sag.py:350: ConvergenceWarning: The max_iter was reached which means the coef_ did not converge\n",
            "  warnings.warn(\n",
            "/usr/local/lib/python3.10/dist-packages/sklearn/linear_model/_sag.py:350: ConvergenceWarning: The max_iter was reached which means the coef_ did not converge\n",
            "  warnings.warn(\n",
            "/usr/local/lib/python3.10/dist-packages/sklearn/linear_model/_sag.py:350: ConvergenceWarning: The max_iter was reached which means the coef_ did not converge\n",
            "  warnings.warn(\n",
            "/usr/local/lib/python3.10/dist-packages/sklearn/linear_model/_sag.py:350: ConvergenceWarning: The max_iter was reached which means the coef_ did not converge\n",
            "  warnings.warn(\n",
            "/usr/local/lib/python3.10/dist-packages/sklearn/linear_model/_sag.py:350: ConvergenceWarning: The max_iter was reached which means the coef_ did not converge\n",
            "  warnings.warn(\n",
            "/usr/local/lib/python3.10/dist-packages/sklearn/linear_model/_sag.py:350: ConvergenceWarning: The max_iter was reached which means the coef_ did not converge\n",
            "  warnings.warn(\n",
            "/usr/local/lib/python3.10/dist-packages/sklearn/linear_model/_sag.py:350: ConvergenceWarning: The max_iter was reached which means the coef_ did not converge\n",
            "  warnings.warn(\n",
            "/usr/local/lib/python3.10/dist-packages/sklearn/linear_model/_sag.py:350: ConvergenceWarning: The max_iter was reached which means the coef_ did not converge\n",
            "  warnings.warn(\n",
            "/usr/local/lib/python3.10/dist-packages/sklearn/linear_model/_sag.py:350: ConvergenceWarning: The max_iter was reached which means the coef_ did not converge\n",
            "  warnings.warn(\n",
            "/usr/local/lib/python3.10/dist-packages/sklearn/linear_model/_sag.py:350: ConvergenceWarning: The max_iter was reached which means the coef_ did not converge\n",
            "  warnings.warn(\n",
            "/usr/local/lib/python3.10/dist-packages/sklearn/linear_model/_sag.py:350: ConvergenceWarning: The max_iter was reached which means the coef_ did not converge\n",
            "  warnings.warn(\n",
            "/usr/local/lib/python3.10/dist-packages/sklearn/linear_model/_sag.py:350: ConvergenceWarning: The max_iter was reached which means the coef_ did not converge\n",
            "  warnings.warn(\n",
            "/usr/local/lib/python3.10/dist-packages/sklearn/linear_model/_sag.py:350: ConvergenceWarning: The max_iter was reached which means the coef_ did not converge\n",
            "  warnings.warn(\n",
            "/usr/local/lib/python3.10/dist-packages/sklearn/linear_model/_sag.py:350: ConvergenceWarning: The max_iter was reached which means the coef_ did not converge\n",
            "  warnings.warn(\n",
            "/usr/local/lib/python3.10/dist-packages/sklearn/linear_model/_sag.py:350: ConvergenceWarning: The max_iter was reached which means the coef_ did not converge\n",
            "  warnings.warn(\n",
            "/usr/local/lib/python3.10/dist-packages/sklearn/linear_model/_sag.py:350: ConvergenceWarning: The max_iter was reached which means the coef_ did not converge\n",
            "  warnings.warn(\n",
            "/usr/local/lib/python3.10/dist-packages/sklearn/linear_model/_sag.py:350: ConvergenceWarning: The max_iter was reached which means the coef_ did not converge\n",
            "  warnings.warn(\n",
            "/usr/local/lib/python3.10/dist-packages/sklearn/linear_model/_sag.py:350: ConvergenceWarning: The max_iter was reached which means the coef_ did not converge\n",
            "  warnings.warn(\n",
            "/usr/local/lib/python3.10/dist-packages/sklearn/linear_model/_sag.py:350: ConvergenceWarning: The max_iter was reached which means the coef_ did not converge\n",
            "  warnings.warn(\n",
            "/usr/local/lib/python3.10/dist-packages/sklearn/linear_model/_sag.py:350: ConvergenceWarning: The max_iter was reached which means the coef_ did not converge\n",
            "  warnings.warn(\n",
            "/usr/local/lib/python3.10/dist-packages/sklearn/linear_model/_sag.py:350: ConvergenceWarning: The max_iter was reached which means the coef_ did not converge\n",
            "  warnings.warn(\n",
            "/usr/local/lib/python3.10/dist-packages/sklearn/linear_model/_sag.py:350: ConvergenceWarning: The max_iter was reached which means the coef_ did not converge\n",
            "  warnings.warn(\n",
            "/usr/local/lib/python3.10/dist-packages/sklearn/linear_model/_sag.py:350: ConvergenceWarning: The max_iter was reached which means the coef_ did not converge\n",
            "  warnings.warn(\n",
            "/usr/local/lib/python3.10/dist-packages/sklearn/linear_model/_sag.py:350: ConvergenceWarning: The max_iter was reached which means the coef_ did not converge\n",
            "  warnings.warn(\n",
            "/usr/local/lib/python3.10/dist-packages/sklearn/linear_model/_sag.py:350: ConvergenceWarning: The max_iter was reached which means the coef_ did not converge\n",
            "  warnings.warn(\n",
            "/usr/local/lib/python3.10/dist-packages/sklearn/linear_model/_sag.py:350: ConvergenceWarning: The max_iter was reached which means the coef_ did not converge\n",
            "  warnings.warn(\n"
          ]
        },
        {
          "output_type": "stream",
          "name": "stdout",
          "text": [
            "{'C': 100, 'penalty': 'l2', 'solver': 'liblinear'}\n",
            "0.9378528932447878\n"
          ]
        }
      ]
    },
    {
      "cell_type": "code",
      "source": [
        "# Make predictions using the best model\n",
        "best_model = grid_search.best_estimator_\n",
        "y_pred = best_model.predict(xtest)"
      ],
      "metadata": {
        "id": "Sch12Iub_D5B"
      },
      "execution_count": null,
      "outputs": []
    },
    {
      "cell_type": "code",
      "source": [
        "log_reg = LogisticRegression(random_state=42, C=100, penalty='l2', solver='liblinear')\n",
        "log_reg.fit(xtrain, ytrain)\n",
        "y_pred = log_reg.predict(xtest)"
      ],
      "metadata": {
        "id": "6tqSnXM2Fzv2"
      },
      "execution_count": null,
      "outputs": []
    },
    {
      "cell_type": "code",
      "source": [
        "confusion_matrix(ytest, y_pred)"
      ],
      "metadata": {
        "colab": {
          "base_uri": "https://localhost:8080/"
        },
        "id": "byUG7o4yQNPs",
        "outputId": "9774ae19-e62a-4c5d-db46-66f036e2dac3"
      },
      "execution_count": null,
      "outputs": [
        {
          "output_type": "execute_result",
          "data": {
            "text/plain": [
              "array([[69311,  1768],\n",
              "       [   14,   109]])"
            ]
          },
          "metadata": {},
          "execution_count": 15
        }
      ]
    },
    {
      "cell_type": "code",
      "source": [
        "print(classification_report(ytest, y_pred))"
      ],
      "metadata": {
        "colab": {
          "base_uri": "https://localhost:8080/"
        },
        "id": "BLdJiY7qQfLd",
        "outputId": "af991d4a-61fa-4e0f-c061-bb8b66c34713"
      },
      "execution_count": null,
      "outputs": [
        {
          "output_type": "stream",
          "name": "stdout",
          "text": [
            "              precision    recall  f1-score   support\n",
            "\n",
            "           0       1.00      0.98      0.99     71079\n",
            "           1       0.06      0.89      0.11       123\n",
            "\n",
            "    accuracy                           0.97     71202\n",
            "   macro avg       0.53      0.93      0.55     71202\n",
            "weighted avg       1.00      0.97      0.99     71202\n",
            "\n"
          ]
        }
      ]
    },
    {
      "cell_type": "markdown",
      "metadata": {
        "id": "xgNO5fjaSVYZ"
      },
      "source": [
        "### Computing ROC AUC Curve"
      ]
    },
    {
      "cell_type": "markdown",
      "metadata": {
        "id": "ESG53iKYSVYZ"
      },
      "source": [
        "By defualt, every machine learning algorithm uses a probability threshold of 0.5 to classify between positive and negative classes. If we can tune this probability threshold to some other values which increases the true positive rate then we will be able to increase the recall for fraudulent transactions.\n",
        "\n",
        "To do that we need to compute the AUC score. The AUC score signifies that the probability value of a random observation from the positive class (i.e. fraudulent transactions) is larger than the probability value of another random observation from the negative class (i.e. non fraudulent transactions). AUC value of 1 means all the predicted positive (fraudulent) transactions have higher probabilites of being fraudulent than the non fraudulent transactions, which is an ideal case."
      ]
    },
    {
      "cell_type": "code",
      "source": [
        "import scipy"
      ],
      "metadata": {
        "id": "p1Uh32_iI-S9"
      },
      "execution_count": 33,
      "outputs": []
    },
    {
      "cell_type": "code",
      "source": [
        "! pip uninstall scipy==1.13.1"
      ],
      "metadata": {
        "colab": {
          "base_uri": "https://localhost:8080/"
        },
        "id": "1BT7sFk5RFfA",
        "outputId": "8cbfd8c8-fa62-46e4-b0d8-7309ffcc0863"
      },
      "execution_count": null,
      "outputs": [
        {
          "output_type": "stream",
          "name": "stdout",
          "text": [
            "Found existing installation: scipy 1.11.4\n",
            "Uninstalling scipy-1.11.4:\n",
            "  Would remove:\n",
            "    /usr/local/lib/python3.10/dist-packages/scipy-1.11.4.dist-info/*\n",
            "    /usr/local/lib/python3.10/dist-packages/scipy.libs/libgfortran-040039e1.so.5.0.0\n",
            "    /usr/local/lib/python3.10/dist-packages/scipy.libs/libopenblasp-r0-23e5df77.3.21.dev.so\n",
            "    /usr/local/lib/python3.10/dist-packages/scipy.libs/libquadmath-96973f99.so.0.0.0\n",
            "    /usr/local/lib/python3.10/dist-packages/scipy/*\n",
            "Proceed (Y/n)? y\n",
            "  Successfully uninstalled scipy-1.11.4\n"
          ]
        }
      ]
    },
    {
      "cell_type": "code",
      "source": [
        "# !pip uninstall scipy -y  # Forcefully remove any existing SciPy installation\n",
        "!pip install scipy==1.11.4 # Install the desired SciPy version\n"
      ],
      "metadata": {
        "colab": {
          "base_uri": "https://localhost:8080/"
        },
        "id": "9LFKjDihSiN1",
        "outputId": "582d69b5-2ec8-45ac-f638-df8629047454"
      },
      "execution_count": 32,
      "outputs": [
        {
          "output_type": "stream",
          "name": "stdout",
          "text": [
            "Collecting scipy==1.11.4\n",
            "  Downloading scipy-1.11.4-cp310-cp310-manylinux_2_17_x86_64.manylinux2014_x86_64.whl.metadata (60 kB)\n",
            "\u001b[?25l     \u001b[90m━━━━━━━━━━━━━━━━━━━━━━━━━━━━━━━━━━━━━━━━\u001b[0m \u001b[32m0.0/60.4 kB\u001b[0m \u001b[31m?\u001b[0m eta \u001b[36m-:--:--\u001b[0m\r\u001b[2K     \u001b[91m━━━━━━━━━━━━━━━━━━━━━━━━━━━\u001b[0m\u001b[90m╺\u001b[0m\u001b[90m━━━━━━━━━━━━\u001b[0m \u001b[32m41.0/60.4 kB\u001b[0m \u001b[31m938.4 kB/s\u001b[0m eta \u001b[36m0:00:01\u001b[0m\r\u001b[2K     \u001b[90m━━━━━━━━━━━━━━━━━━━━━━━━━━━━━━━━━━━━━━━━\u001b[0m \u001b[32m60.4/60.4 kB\u001b[0m \u001b[31m957.0 kB/s\u001b[0m eta \u001b[36m0:00:00\u001b[0m\n",
            "\u001b[?25hRequirement already satisfied: numpy<1.28.0,>=1.21.6 in /usr/local/lib/python3.10/dist-packages (from scipy==1.11.4) (1.26.4)\n",
            "Downloading scipy-1.11.4-cp310-cp310-manylinux_2_17_x86_64.manylinux2014_x86_64.whl (36.4 MB)\n",
            "\u001b[2K   \u001b[90m━━━━━━━━━━━━━━━━━━━━━━━━━━━━━━━━━━━━━━━━\u001b[0m \u001b[32m36.4/36.4 MB\u001b[0m \u001b[31m2.9 MB/s\u001b[0m eta \u001b[36m0:00:00\u001b[0m\n",
            "\u001b[?25hInstalling collected packages: scipy\n",
            "  Attempting uninstall: scipy\n",
            "    Found existing installation: scipy 1.13.1\n",
            "    Uninstalling scipy-1.13.1:\n",
            "      Successfully uninstalled scipy-1.13.1\n",
            "\u001b[31mERROR: pip's dependency resolver does not currently take into account all the packages that are installed. This behaviour is the source of the following dependency conflicts.\n",
            "xgboost 2.1.1 requires nvidia-nccl-cu12; platform_system == \"Linux\" and platform_machine != \"aarch64\", which is not installed.\u001b[0m\u001b[31m\n",
            "\u001b[0mSuccessfully installed scipy-1.11.4\n"
          ]
        }
      ]
    },
    {
      "cell_type": "code",
      "source": [
        "print(scipy.__version__)"
      ],
      "metadata": {
        "colab": {
          "base_uri": "https://localhost:8080/"
        },
        "id": "gtRgqZz1IHSA",
        "outputId": "699206ae-c388-4428-ad09-64c58f9ebe71"
      },
      "execution_count": 34,
      "outputs": [
        {
          "output_type": "stream",
          "name": "stdout",
          "text": [
            "1.13.1\n"
          ]
        }
      ]
    },
    {
      "cell_type": "code",
      "source": [
        "! pip install plot-metric"
      ],
      "metadata": {
        "collapsed": true,
        "colab": {
          "base_uri": "https://localhost:8080/"
        },
        "id": "fAvaTEDVQrnF",
        "outputId": "38bd33c2-820c-4a69-eb3b-f360626da86b"
      },
      "execution_count": 156,
      "outputs": [
        {
          "output_type": "stream",
          "name": "stdout",
          "text": [
            "Collecting plot-metric\n",
            "  Downloading plot_metric-0.0.6-py3-none-any.whl.metadata (4.9 kB)\n",
            "Requirement already satisfied: scipy>=1.1.0 in /usr/local/lib/python3.10/dist-packages (from plot-metric) (1.11.4)\n",
            "Requirement already satisfied: matplotlib>=3.0.2 in /usr/local/lib/python3.10/dist-packages (from plot-metric) (3.7.1)\n",
            "Requirement already satisfied: colorlover>=0.3.0 in /usr/local/lib/python3.10/dist-packages (from plot-metric) (0.3.0)\n",
            "Requirement already satisfied: pandas>=0.23.4 in /usr/local/lib/python3.10/dist-packages (from plot-metric) (2.1.4)\n",
            "Requirement already satisfied: seaborn>=0.9.0 in /usr/local/lib/python3.10/dist-packages (from plot-metric) (0.13.1)\n",
            "Requirement already satisfied: numpy>=1.15.4 in /usr/local/lib/python3.10/dist-packages (from plot-metric) (1.26.4)\n",
            "Requirement already satisfied: scikit-learn>=0.21.2 in /usr/local/lib/python3.10/dist-packages (from plot-metric) (1.3.2)\n",
            "Requirement already satisfied: contourpy>=1.0.1 in /usr/local/lib/python3.10/dist-packages (from matplotlib>=3.0.2->plot-metric) (1.2.1)\n",
            "Requirement already satisfied: cycler>=0.10 in /usr/local/lib/python3.10/dist-packages (from matplotlib>=3.0.2->plot-metric) (0.12.1)\n",
            "Requirement already satisfied: fonttools>=4.22.0 in /usr/local/lib/python3.10/dist-packages (from matplotlib>=3.0.2->plot-metric) (4.53.1)\n",
            "Requirement already satisfied: kiwisolver>=1.0.1 in /usr/local/lib/python3.10/dist-packages (from matplotlib>=3.0.2->plot-metric) (1.4.5)\n",
            "Requirement already satisfied: packaging>=20.0 in /usr/local/lib/python3.10/dist-packages (from matplotlib>=3.0.2->plot-metric) (24.1)\n",
            "Requirement already satisfied: pillow>=6.2.0 in /usr/local/lib/python3.10/dist-packages (from matplotlib>=3.0.2->plot-metric) (9.4.0)\n",
            "Requirement already satisfied: pyparsing>=2.3.1 in /usr/local/lib/python3.10/dist-packages (from matplotlib>=3.0.2->plot-metric) (3.1.2)\n",
            "Requirement already satisfied: python-dateutil>=2.7 in /usr/local/lib/python3.10/dist-packages (from matplotlib>=3.0.2->plot-metric) (2.8.2)\n",
            "Requirement already satisfied: pytz>=2020.1 in /usr/local/lib/python3.10/dist-packages (from pandas>=0.23.4->plot-metric) (2024.1)\n",
            "Requirement already satisfied: tzdata>=2022.1 in /usr/local/lib/python3.10/dist-packages (from pandas>=0.23.4->plot-metric) (2024.1)\n",
            "Requirement already satisfied: joblib>=1.1.1 in /usr/local/lib/python3.10/dist-packages (from scikit-learn>=0.21.2->plot-metric) (1.4.2)\n",
            "Requirement already satisfied: threadpoolctl>=2.0.0 in /usr/local/lib/python3.10/dist-packages (from scikit-learn>=0.21.2->plot-metric) (3.5.0)\n",
            "Requirement already satisfied: six>=1.5 in /usr/local/lib/python3.10/dist-packages (from python-dateutil>=2.7->matplotlib>=3.0.2->plot-metric) (1.16.0)\n",
            "Downloading plot_metric-0.0.6-py3-none-any.whl (13 kB)\n",
            "Installing collected packages: plot-metric\n",
            "Successfully installed plot-metric-0.0.6\n"
          ]
        }
      ]
    },
    {
      "cell_type": "code",
      "source": [],
      "metadata": {
        "id": "Yx9nvsvyRD8B"
      },
      "execution_count": null,
      "outputs": []
    },
    {
      "cell_type": "code",
      "execution_count": null,
      "metadata": {
        "id": "6iP5V4m_SVYa",
        "colab": {
          "base_uri": "https://localhost:8080/",
          "height": 718
        },
        "outputId": "cf61a6f6-bfe7-4c92-b1ef-41aeee2f6408"
      },
      "outputs": [
        {
          "output_type": "display_data",
          "data": {
            "text/plain": [
              "<Figure size 1200x800 with 1 Axes>"
            ],
            "image/png": "[encoded data removed]"
          },
          "metadata": {}
        }
      ],
      "source": [
        "# let's use another probability threshold so that we can get to the elbow position in the above curve\n",
        "from plot_metric.functions import BinaryClassification\n",
        "BC = BinaryClassification(y_test, rf_smoteenn.predict_proba(X_test_scaled)[: , 1],threshold=0.01 ,labels=[0,1] )\n",
        "plt.figure(figsize=(12, 8))\n",
        "BC.plot_roc_curve()\n",
        "plt.show()\n"
      ]
    },
    {
      "cell_type": "markdown",
      "metadata": {
        "id": "134D9WGbSVYb"
      },
      "source": [
        "### Adjusting probability threshold"
      ]
    },
    {
      "cell_type": "code",
      "execution_count": null,
      "metadata": {
        "id": "NVtHAsdgSVYb"
      },
      "outputs": [],
      "source": [
        "# compute the probabilites of test observations using rf_smote model\n",
        "\n",
        "y_pred_prob = log_reg.predict_proba(xtest)[:, 1]\n"
      ]
    },
    {
      "cell_type": "code",
      "execution_count": null,
      "metadata": {
        "id": "NnbTzVD5SVYb",
        "colab": {
          "base_uri": "https://localhost:8080/"
        },
        "outputId": "3c3a1052-e9b0-4833-c7fd-ac65ef48a134"
      },
      "outputs": [
        {
          "output_type": "execute_result",
          "data": {
            "text/plain": [
              "71202"
            ]
          },
          "metadata": {},
          "execution_count": 34
        }
      ],
      "source": [
        "# compare these probabilities against the probability threshold of 6% rather than the default threshold of 50%\n",
        "\n",
        "y_labels = (y_pred_prob >= 0.06)\n",
        "len(y_labels)\n",
        "\n"
      ]
    },
    {
      "cell_type": "code",
      "execution_count": null,
      "metadata": {
        "id": "L91VERv0SVYb",
        "colab": {
          "base_uri": "https://localhost:8080/",
          "height": 482
        },
        "outputId": "dc4ae312-1e58-463b-d379-8341b28dab5e"
      },
      "outputs": [
        {
          "output_type": "stream",
          "name": "stdout",
          "text": [
            "[[53468 17611]\n",
            " [    5   118]]\n"
          ]
        },
        {
          "output_type": "execute_result",
          "data": {
            "text/plain": [
              "<Axes: >"
            ]
          },
          "metadata": {},
          "execution_count": 35
        },
        {
          "output_type": "display_data",
          "data": {
            "text/plain": [
              "<Figure size 640x480 with 2 Axes>"
            ],
            "image/png": "[encoded data removed]"
          },
          "metadata": {}
        }
      ],
      "source": [
        "# plot the confusion matrix\n",
        "\n",
        "print(confusion_matrix(ytest, y_labels))\n",
        "sns.heatmap(confusion_matrix(ytest, y_labels), annot=True, fmt='d')\n",
        "\n"
      ]
    },
    {
      "cell_type": "code",
      "execution_count": null,
      "metadata": {
        "id": "4f3B1q_QSVYb",
        "colab": {
          "base_uri": "https://localhost:8080/"
        },
        "outputId": "985a1dd2-0fee-427b-b181-bd91899ba2e6"
      },
      "outputs": [
        {
          "output_type": "stream",
          "name": "stdout",
          "text": [
            "              precision    recall  f1-score   support\n",
            "\n",
            "           0       1.00      0.75      0.86     71079\n",
            "           1       0.01      0.96      0.01       123\n",
            "\n",
            "    accuracy                           0.75     71202\n",
            "   macro avg       0.50      0.86      0.44     71202\n",
            "weighted avg       1.00      0.75      0.86     71202\n",
            "\n"
          ]
        }
      ],
      "source": [
        "# print the classification report\n",
        "print(classification_report(ytest, y_labels))\n",
        "\n"
      ]
    },
    {
      "cell_type": "code",
      "source": [],
      "metadata": {
        "id": "4AH53vX3JieM"
      },
      "execution_count": null,
      "outputs": []
    },
    {
      "cell_type": "markdown",
      "source": [
        "# Different Approach Using Data Generated Using GAN Model"
      ],
      "metadata": {
        "id": "olmUDV5PpfgQ"
      }
    },
    {
      "cell_type": "code",
      "source": [
        "# Importing dataset generated by GAN Model , you can find the notebook for GAN in this repo\n",
        "\n",
        "df_synthetic = pd.read_csv('synthetic_data_scaled.csv')"
      ],
      "metadata": {
        "id": "EsmHFesypnBX"
      },
      "execution_count": 4,
      "outputs": []
    },
    {
      "cell_type": "code",
      "source": [
        "df_synthetic"
      ],
      "metadata": {
        "colab": {
          "base_uri": "https://localhost:8080/",
          "height": 443
        },
        "id": "f6pyQnY03BMK",
        "outputId": "59ce541e-c668-46c6-af3f-2ad2baf0fb0f"
      },
      "execution_count": 5,
      "outputs": [
        {
          "output_type": "execute_result",
          "data": {
            "text/plain": [
              "              0         1         2         3         4         5         6  \\\n",
              "0     -1.042182  1.345320 -0.933320  2.523743 -0.358913 -0.987572 -2.292097   \n",
              "1     -1.369244 -2.298262  0.473840  1.450074  1.084860 -0.677575  0.253862   \n",
              "2     -1.038212  1.207868 -0.281395  1.476204 -0.588630  0.170028  0.464394   \n",
              "3     -1.974979  0.921989 -1.445947  1.695769 -0.823764 -1.227524 -3.144742   \n",
              "4      0.543881  2.106760 -2.338619  2.985363  2.821995 -0.928610  1.488061   \n",
              "...         ...       ...       ...       ...       ...       ...       ...   \n",
              "10487 -0.447111 -0.198251 -1.978541  1.000730  0.273107 -1.235385 -1.468876   \n",
              "10488  0.664721  0.197038 -2.912716  0.950058 -1.408998  0.819649 -1.393534   \n",
              "10489 -1.252016 -1.142206  0.886877 -1.560335  3.176343  0.133851  3.132071   \n",
              "10490  1.600962  2.714185 -2.987850  2.124966 -2.238366 -0.681512 -4.181395   \n",
              "10491  1.022183  1.748568 -3.249969  2.781209  1.038269 -0.545098  1.462031   \n",
              "\n",
              "              7         8         9  ...        20        21        22  \\\n",
              "0      2.554779 -2.192050 -2.708199  ...  1.318031 -0.039062 -1.466996   \n",
              "1     -0.168201 -0.177002 -0.753697  ...  1.666327  0.400312  4.482102   \n",
              "2     -0.786425 -0.150636 -1.447916  ... -0.638221 -0.876991  0.594269   \n",
              "3     -0.505873 -0.158308 -4.759412  ...  1.453869  0.158918 -1.373279   \n",
              "4     -0.967799 -0.992899 -2.379900  ... -0.842916 -0.663890 -2.086061   \n",
              "...         ...       ...       ...  ...       ...       ...       ...   \n",
              "10487 -3.562817  1.699303  0.431728  ... -1.248004 -1.070563 -3.634939   \n",
              "10488 -1.250600  2.639256  0.920023  ... -2.454885 -1.216193 -3.156173   \n",
              "10489 -1.985992  4.578882  2.444969  ... -1.971308 -2.293726 -0.321301   \n",
              "10490  5.377349 -2.617460 -6.139466  ...  1.818992  1.485728  1.397381   \n",
              "10491  2.189851  0.659302 -3.919627  ...  3.404764 -1.216750  0.229485   \n",
              "\n",
              "             23        24        25        26        27        28      label  \n",
              "0      0.351615  0.041814  0.404938  1.604864 -1.177385 -0.307413       real  \n",
              "1     -0.421576  0.394101 -0.164143 -1.569730  0.186837  7.084469       real  \n",
              "2     -0.161571 -0.258599 -0.863634  0.236118 -1.251699  3.045204       real  \n",
              "3     -0.118973  0.353085 -1.065875 -5.117705  6.387772  0.517013       real  \n",
              "4     -2.107546  2.204514  1.089799 -0.070163  1.032834 -0.293440       real  \n",
              "...         ...       ...       ...       ...       ...       ...        ...  \n",
              "10487  2.182830 -3.752635  2.182087 -2.112959 -1.694368 -0.900628  synthetic  \n",
              "10488  2.883500 -3.981182  1.142501 -3.675872 -1.309798  0.607318  synthetic  \n",
              "10489 -0.064593 -0.069800 -3.452193  1.250965 -0.733440  1.781248  synthetic  \n",
              "10490  0.626595  1.657685  1.451358  4.466401  2.436209  3.400095  synthetic  \n",
              "10491 -0.883903 -0.051943  1.425810  1.423821  1.171977 -1.069684  synthetic  \n",
              "\n",
              "[10492 rows x 30 columns]"
            ],
            "text/html": [
              "\n",
              "  <div id=\"df-4ce94f44-e1d0-4762-845c-ddd0a17e0d49\" class=\"colab-df-container\">\n",
              "    <div>\n",
              "<style scoped>\n",
              "    .dataframe tbody tr th:only-of-type {\n",
              "        vertical-align: middle;\n",
              "    }\n",
              "\n",
              "    .dataframe tbody tr th {\n",
              "        vertical-align: top;\n",
              "    }\n",
              "\n",
              "    .dataframe thead th {\n",
              "        text-align: right;\n",
              "    }\n",
              "</style>\n",
              "<table border=\"1\" class=\"dataframe\">\n",
              "  <thead>\n",
              "    <tr style=\"text-align: right;\">\n",
              "      <th></th>\n",
              "      <th>0</th>\n",
              "      <th>1</th>\n",
              "      <th>2</th>\n",
              "      <th>3</th>\n",
              "      <th>4</th>\n",
              "      <th>5</th>\n",
              "      <th>6</th>\n",
              "      <th>7</th>\n",
              "      <th>8</th>\n",
              "      <th>9</th>\n",
              "      <th>...</th>\n",
              "      <th>20</th>\n",
              "      <th>21</th>\n",
              "      <th>22</th>\n",
              "      <th>23</th>\n",
              "      <th>24</th>\n",
              "      <th>25</th>\n",
              "      <th>26</th>\n",
              "      <th>27</th>\n",
              "      <th>28</th>\n",
              "      <th>label</th>\n",
              "    </tr>\n",
              "  </thead>\n",
              "  <tbody>\n",
              "    <tr>\n",
              "      <th>0</th>\n",
              "      <td>-1.042182</td>\n",
              "      <td>1.345320</td>\n",
              "      <td>-0.933320</td>\n",
              "      <td>2.523743</td>\n",
              "      <td>-0.358913</td>\n",
              "      <td>-0.987572</td>\n",
              "      <td>-2.292097</td>\n",
              "      <td>2.554779</td>\n",
              "      <td>-2.192050</td>\n",
              "      <td>-2.708199</td>\n",
              "      <td>...</td>\n",
              "      <td>1.318031</td>\n",
              "      <td>-0.039062</td>\n",
              "      <td>-1.466996</td>\n",
              "      <td>0.351615</td>\n",
              "      <td>0.041814</td>\n",
              "      <td>0.404938</td>\n",
              "      <td>1.604864</td>\n",
              "      <td>-1.177385</td>\n",
              "      <td>-0.307413</td>\n",
              "      <td>real</td>\n",
              "    </tr>\n",
              "    <tr>\n",
              "      <th>1</th>\n",
              "      <td>-1.369244</td>\n",
              "      <td>-2.298262</td>\n",
              "      <td>0.473840</td>\n",
              "      <td>1.450074</td>\n",
              "      <td>1.084860</td>\n",
              "      <td>-0.677575</td>\n",
              "      <td>0.253862</td>\n",
              "      <td>-0.168201</td>\n",
              "      <td>-0.177002</td>\n",
              "      <td>-0.753697</td>\n",
              "      <td>...</td>\n",
              "      <td>1.666327</td>\n",
              "      <td>0.400312</td>\n",
              "      <td>4.482102</td>\n",
              "      <td>-0.421576</td>\n",
              "      <td>0.394101</td>\n",
              "      <td>-0.164143</td>\n",
              "      <td>-1.569730</td>\n",
              "      <td>0.186837</td>\n",
              "      <td>7.084469</td>\n",
              "      <td>real</td>\n",
              "    </tr>\n",
              "    <tr>\n",
              "      <th>2</th>\n",
              "      <td>-1.038212</td>\n",
              "      <td>1.207868</td>\n",
              "      <td>-0.281395</td>\n",
              "      <td>1.476204</td>\n",
              "      <td>-0.588630</td>\n",
              "      <td>0.170028</td>\n",
              "      <td>0.464394</td>\n",
              "      <td>-0.786425</td>\n",
              "      <td>-0.150636</td>\n",
              "      <td>-1.447916</td>\n",
              "      <td>...</td>\n",
              "      <td>-0.638221</td>\n",
              "      <td>-0.876991</td>\n",
              "      <td>0.594269</td>\n",
              "      <td>-0.161571</td>\n",
              "      <td>-0.258599</td>\n",
              "      <td>-0.863634</td>\n",
              "      <td>0.236118</td>\n",
              "      <td>-1.251699</td>\n",
              "      <td>3.045204</td>\n",
              "      <td>real</td>\n",
              "    </tr>\n",
              "    <tr>\n",
              "      <th>3</th>\n",
              "      <td>-1.974979</td>\n",
              "      <td>0.921989</td>\n",
              "      <td>-1.445947</td>\n",
              "      <td>1.695769</td>\n",
              "      <td>-0.823764</td>\n",
              "      <td>-1.227524</td>\n",
              "      <td>-3.144742</td>\n",
              "      <td>-0.505873</td>\n",
              "      <td>-0.158308</td>\n",
              "      <td>-4.759412</td>\n",
              "      <td>...</td>\n",
              "      <td>1.453869</td>\n",
              "      <td>0.158918</td>\n",
              "      <td>-1.373279</td>\n",
              "      <td>-0.118973</td>\n",
              "      <td>0.353085</td>\n",
              "      <td>-1.065875</td>\n",
              "      <td>-5.117705</td>\n",
              "      <td>6.387772</td>\n",
              "      <td>0.517013</td>\n",
              "      <td>real</td>\n",
              "    </tr>\n",
              "    <tr>\n",
              "      <th>4</th>\n",
              "      <td>0.543881</td>\n",
              "      <td>2.106760</td>\n",
              "      <td>-2.338619</td>\n",
              "      <td>2.985363</td>\n",
              "      <td>2.821995</td>\n",
              "      <td>-0.928610</td>\n",
              "      <td>1.488061</td>\n",
              "      <td>-0.967799</td>\n",
              "      <td>-0.992899</td>\n",
              "      <td>-2.379900</td>\n",
              "      <td>...</td>\n",
              "      <td>-0.842916</td>\n",
              "      <td>-0.663890</td>\n",
              "      <td>-2.086061</td>\n",
              "      <td>-2.107546</td>\n",
              "      <td>2.204514</td>\n",
              "      <td>1.089799</td>\n",
              "      <td>-0.070163</td>\n",
              "      <td>1.032834</td>\n",
              "      <td>-0.293440</td>\n",
              "      <td>real</td>\n",
              "    </tr>\n",
              "    <tr>\n",
              "      <th>...</th>\n",
              "      <td>...</td>\n",
              "      <td>...</td>\n",
              "      <td>...</td>\n",
              "      <td>...</td>\n",
              "      <td>...</td>\n",
              "      <td>...</td>\n",
              "      <td>...</td>\n",
              "      <td>...</td>\n",
              "      <td>...</td>\n",
              "      <td>...</td>\n",
              "      <td>...</td>\n",
              "      <td>...</td>\n",
              "      <td>...</td>\n",
              "      <td>...</td>\n",
              "      <td>...</td>\n",
              "      <td>...</td>\n",
              "      <td>...</td>\n",
              "      <td>...</td>\n",
              "      <td>...</td>\n",
              "      <td>...</td>\n",
              "      <td>...</td>\n",
              "    </tr>\n",
              "    <tr>\n",
              "      <th>10487</th>\n",
              "      <td>-0.447111</td>\n",
              "      <td>-0.198251</td>\n",
              "      <td>-1.978541</td>\n",
              "      <td>1.000730</td>\n",
              "      <td>0.273107</td>\n",
              "      <td>-1.235385</td>\n",
              "      <td>-1.468876</td>\n",
              "      <td>-3.562817</td>\n",
              "      <td>1.699303</td>\n",
              "      <td>0.431728</td>\n",
              "      <td>...</td>\n",
              "      <td>-1.248004</td>\n",
              "      <td>-1.070563</td>\n",
              "      <td>-3.634939</td>\n",
              "      <td>2.182830</td>\n",
              "      <td>-3.752635</td>\n",
              "      <td>2.182087</td>\n",
              "      <td>-2.112959</td>\n",
              "      <td>-1.694368</td>\n",
              "      <td>-0.900628</td>\n",
              "      <td>synthetic</td>\n",
              "    </tr>\n",
              "    <tr>\n",
              "      <th>10488</th>\n",
              "      <td>0.664721</td>\n",
              "      <td>0.197038</td>\n",
              "      <td>-2.912716</td>\n",
              "      <td>0.950058</td>\n",
              "      <td>-1.408998</td>\n",
              "      <td>0.819649</td>\n",
              "      <td>-1.393534</td>\n",
              "      <td>-1.250600</td>\n",
              "      <td>2.639256</td>\n",
              "      <td>0.920023</td>\n",
              "      <td>...</td>\n",
              "      <td>-2.454885</td>\n",
              "      <td>-1.216193</td>\n",
              "      <td>-3.156173</td>\n",
              "      <td>2.883500</td>\n",
              "      <td>-3.981182</td>\n",
              "      <td>1.142501</td>\n",
              "      <td>-3.675872</td>\n",
              "      <td>-1.309798</td>\n",
              "      <td>0.607318</td>\n",
              "      <td>synthetic</td>\n",
              "    </tr>\n",
              "    <tr>\n",
              "      <th>10489</th>\n",
              "      <td>-1.252016</td>\n",
              "      <td>-1.142206</td>\n",
              "      <td>0.886877</td>\n",
              "      <td>-1.560335</td>\n",
              "      <td>3.176343</td>\n",
              "      <td>0.133851</td>\n",
              "      <td>3.132071</td>\n",
              "      <td>-1.985992</td>\n",
              "      <td>4.578882</td>\n",
              "      <td>2.444969</td>\n",
              "      <td>...</td>\n",
              "      <td>-1.971308</td>\n",
              "      <td>-2.293726</td>\n",
              "      <td>-0.321301</td>\n",
              "      <td>-0.064593</td>\n",
              "      <td>-0.069800</td>\n",
              "      <td>-3.452193</td>\n",
              "      <td>1.250965</td>\n",
              "      <td>-0.733440</td>\n",
              "      <td>1.781248</td>\n",
              "      <td>synthetic</td>\n",
              "    </tr>\n",
              "    <tr>\n",
              "      <th>10490</th>\n",
              "      <td>1.600962</td>\n",
              "      <td>2.714185</td>\n",
              "      <td>-2.987850</td>\n",
              "      <td>2.124966</td>\n",
              "      <td>-2.238366</td>\n",
              "      <td>-0.681512</td>\n",
              "      <td>-4.181395</td>\n",
              "      <td>5.377349</td>\n",
              "      <td>-2.617460</td>\n",
              "      <td>-6.139466</td>\n",
              "      <td>...</td>\n",
              "      <td>1.818992</td>\n",
              "      <td>1.485728</td>\n",
              "      <td>1.397381</td>\n",
              "      <td>0.626595</td>\n",
              "      <td>1.657685</td>\n",
              "      <td>1.451358</td>\n",
              "      <td>4.466401</td>\n",
              "      <td>2.436209</td>\n",
              "      <td>3.400095</td>\n",
              "      <td>synthetic</td>\n",
              "    </tr>\n",
              "    <tr>\n",
              "      <th>10491</th>\n",
              "      <td>1.022183</td>\n",
              "      <td>1.748568</td>\n",
              "      <td>-3.249969</td>\n",
              "      <td>2.781209</td>\n",
              "      <td>1.038269</td>\n",
              "      <td>-0.545098</td>\n",
              "      <td>1.462031</td>\n",
              "      <td>2.189851</td>\n",
              "      <td>0.659302</td>\n",
              "      <td>-3.919627</td>\n",
              "      <td>...</td>\n",
              "      <td>3.404764</td>\n",
              "      <td>-1.216750</td>\n",
              "      <td>0.229485</td>\n",
              "      <td>-0.883903</td>\n",
              "      <td>-0.051943</td>\n",
              "      <td>1.425810</td>\n",
              "      <td>1.423821</td>\n",
              "      <td>1.171977</td>\n",
              "      <td>-1.069684</td>\n",
              "      <td>synthetic</td>\n",
              "    </tr>\n",
              "  </tbody>\n",
              "</table>\n",
              "<p>10492 rows × 30 columns</p>\n",
              "</div>\n",
              "    <div class=\"colab-df-buttons\">\n",
              "\n",
              "  <div class=\"colab-df-container\">\n",
              "    <button class=\"colab-df-convert\" onclick=\"convertToInteractive('df-4ce94f44-e1d0-4762-845c-ddd0a17e0d49')\"\n",
              "            title=\"Convert this dataframe to an interactive table.\"\n",
              "            style=\"display:none;\">\n",
              "\n",
              "  <svg xmlns=\"http://www.w3.org/2000/svg\" height=\"24px\" viewBox=\"0 -960 960 960\">\n",
              "    <path d=\"M120-120v-720h720v720H120Zm60-500h600v-160H180v160Zm220 220h160v-160H400v160Zm0 220h160v-160H400v160ZM180-400h160v-160H180v160Zm440 0h160v-160H620v160ZM180-180h160v-160H180v160Zm440 0h160v-160H620v160Z\"/>\n",
              "  </svg>\n",
              "    </button>\n",
              "\n",
              "  <style>\n",
              "    .colab-df-container {\n",
              "      display:flex;\n",
              "      gap: 12px;\n",
              "    }\n",
              "\n",
              "    .colab-df-convert {\n",
              "      background-color: #E8F0FE;\n",
              "      border: none;\n",
              "      border-radius: 50%;\n",
              "      cursor: pointer;\n",
              "      display: none;\n",
              "      fill: #1967D2;\n",
              "      height: 32px;\n",
              "      padding: 0 0 0 0;\n",
              "      width: 32px;\n",
              "    }\n",
              "\n",
              "    .colab-df-convert:hover {\n",
              "      background-color: #E2EBFA;\n",
              "      box-shadow: 0px 1px 2px rgba(60, 64, 67, 0.3), 0px 1px 3px 1px rgba(60, 64, 67, 0.15);\n",
              "      fill: #174EA6;\n",
              "    }\n",
              "\n",
              "    .colab-df-buttons div {\n",
              "      margin-bottom: 4px;\n",
              "    }\n",
              "\n",
              "    [theme=dark] .colab-df-convert {\n",
              "      background-color: #3B4455;\n",
              "      fill: #D2E3FC;\n",
              "    }\n",
              "\n",
              "    [theme=dark] .colab-df-convert:hover {\n",
              "      background-color: #434B5C;\n",
              "      box-shadow: 0px 1px 3px 1px rgba(0, 0, 0, 0.15);\n",
              "      filter: drop-shadow(0px 1px 2px rgba(0, 0, 0, 0.3));\n",
              "      fill: #FFFFFF;\n",
              "    }\n",
              "  </style>\n",
              "\n",
              "    <script>\n",
              "      const buttonEl =\n",
              "        document.querySelector('#df-4ce94f44-e1d0-4762-845c-ddd0a17e0d49 button.colab-df-convert');\n",
              "      buttonEl.style.display =\n",
              "        google.colab.kernel.accessAllowed ? 'block' : 'none';\n",
              "\n",
              "      async function convertToInteractive(key) {\n",
              "        const element = document.querySelector('#df-4ce94f44-e1d0-4762-845c-ddd0a17e0d49');\n",
              "        const dataTable =\n",
              "          await google.colab.kernel.invokeFunction('convertToInteractive',\n",
              "                                                    [key], {});\n",
              "        if (!dataTable) return;\n",
              "\n",
              "        const docLinkHtml = 'Like what you see? Visit the ' +\n",
              "          '<a target=\"_blank\" href=https://colab.research.google.com/notebooks/data_table.ipynb>data table notebook</a>'\n",
              "          + ' to learn more about interactive tables.';\n",
              "        element.innerHTML = '';\n",
              "        dataTable['output_type'] = 'display_data';\n",
              "        await google.colab.output.renderOutput(dataTable, element);\n",
              "        const docLink = document.createElement('div');\n",
              "        docLink.innerHTML = docLinkHtml;\n",
              "        element.appendChild(docLink);\n",
              "      }\n",
              "    </script>\n",
              "  </div>\n",
              "\n",
              "\n",
              "<div id=\"df-1adcf009-d3ca-4fab-baa5-86ba61dbceb3\">\n",
              "  <button class=\"colab-df-quickchart\" onclick=\"quickchart('df-1adcf009-d3ca-4fab-baa5-86ba61dbceb3')\"\n",
              "            title=\"Suggest charts\"\n",
              "            style=\"display:none;\">\n",
              "\n",
              "<svg xmlns=\"http://www.w3.org/2000/svg\" height=\"24px\"viewBox=\"0 0 24 24\"\n",
              "     width=\"24px\">\n",
              "    <g>\n",
              "        <path d=\"M19 3H5c-1.1 0-2 .9-2 2v14c0 1.1.9 2 2 2h14c1.1 0 2-.9 2-2V5c0-1.1-.9-2-2-2zM9 17H7v-7h2v7zm4 0h-2V7h2v10zm4 0h-2v-4h2v4z\"/>\n",
              "    </g>\n",
              "</svg>\n",
              "  </button>\n",
              "\n",
              "<style>\n",
              "  .colab-df-quickchart {\n",
              "      --bg-color: #E8F0FE;\n",
              "      --fill-color: #1967D2;\n",
              "      --hover-bg-color: #E2EBFA;\n",
              "      --hover-fill-color: #174EA6;\n",
              "      --disabled-fill-color: #AAA;\n",
              "      --disabled-bg-color: #DDD;\n",
              "  }\n",
              "\n",
              "  [theme=dark] .colab-df-quickchart {\n",
              "      --bg-color: #3B4455;\n",
              "      --fill-color: #D2E3FC;\n",
              "      --hover-bg-color: #434B5C;\n",
              "      --hover-fill-color: #FFFFFF;\n",
              "      --disabled-bg-color: #3B4455;\n",
              "      --disabled-fill-color: #666;\n",
              "  }\n",
              "\n",
              "  .colab-df-quickchart {\n",
              "    background-color: var(--bg-color);\n",
              "    border: none;\n",
              "    border-radius: 50%;\n",
              "    cursor: pointer;\n",
              "    display: none;\n",
              "    fill: var(--fill-color);\n",
              "    height: 32px;\n",
              "    padding: 0;\n",
              "    width: 32px;\n",
              "  }\n",
              "\n",
              "  .colab-df-quickchart:hover {\n",
              "    background-color: var(--hover-bg-color);\n",
              "    box-shadow: 0 1px 2px rgba(60, 64, 67, 0.3), 0 1px 3px 1px rgba(60, 64, 67, 0.15);\n",
              "    fill: var(--button-hover-fill-color);\n",
              "  }\n",
              "\n",
              "  .colab-df-quickchart-complete:disabled,\n",
              "  .colab-df-quickchart-complete:disabled:hover {\n",
              "    background-color: var(--disabled-bg-color);\n",
              "    fill: var(--disabled-fill-color);\n",
              "    box-shadow: none;\n",
              "  }\n",
              "\n",
              "  .colab-df-spinner {\n",
              "    border: 2px solid var(--fill-color);\n",
              "    border-color: transparent;\n",
              "    border-bottom-color: var(--fill-color);\n",
              "    animation:\n",
              "      spin 1s steps(1) infinite;\n",
              "  }\n",
              "\n",
              "  @keyframes spin {\n",
              "    0% {\n",
              "      border-color: transparent;\n",
              "      border-bottom-color: var(--fill-color);\n",
              "      border-left-color: var(--fill-color);\n",
              "    }\n",
              "    20% {\n",
              "      border-color: transparent;\n",
              "      border-left-color: var(--fill-color);\n",
              "      border-top-color: var(--fill-color);\n",
              "    }\n",
              "    30% {\n",
              "      border-color: transparent;\n",
              "      border-left-color: var(--fill-color);\n",
              "      border-top-color: var(--fill-color);\n",
              "      border-right-color: var(--fill-color);\n",
              "    }\n",
              "    40% {\n",
              "      border-color: transparent;\n",
              "      border-right-color: var(--fill-color);\n",
              "      border-top-color: var(--fill-color);\n",
              "    }\n",
              "    60% {\n",
              "      border-color: transparent;\n",
              "      border-right-color: var(--fill-color);\n",
              "    }\n",
              "    80% {\n",
              "      border-color: transparent;\n",
              "      border-right-color: var(--fill-color);\n",
              "      border-bottom-color: var(--fill-color);\n",
              "    }\n",
              "    90% {\n",
              "      border-color: transparent;\n",
              "      border-bottom-color: var(--fill-color);\n",
              "    }\n",
              "  }\n",
              "</style>\n",
              "\n",
              "  <script>\n",
              "    async function quickchart(key) {\n",
              "      const quickchartButtonEl =\n",
              "        document.querySelector('#' + key + ' button');\n",
              "      quickchartButtonEl.disabled = true;  // To prevent multiple clicks.\n",
              "      quickchartButtonEl.classList.add('colab-df-spinner');\n",
              "      try {\n",
              "        const charts = await google.colab.kernel.invokeFunction(\n",
              "            'suggestCharts', [key], {});\n",
              "      } catch (error) {\n",
              "        console.error('Error during call to suggestCharts:', error);\n",
              "      }\n",
              "      quickchartButtonEl.classList.remove('colab-df-spinner');\n",
              "      quickchartButtonEl.classList.add('colab-df-quickchart-complete');\n",
              "    }\n",
              "    (() => {\n",
              "      let quickchartButtonEl =\n",
              "        document.querySelector('#df-1adcf009-d3ca-4fab-baa5-86ba61dbceb3 button');\n",
              "      quickchartButtonEl.style.display =\n",
              "        google.colab.kernel.accessAllowed ? 'block' : 'none';\n",
              "    })();\n",
              "  </script>\n",
              "</div>\n",
              "\n",
              "  <div id=\"id_279a1f38-8fe5-46c5-aa98-a46e258792e7\">\n",
              "    <style>\n",
              "      .colab-df-generate {\n",
              "        background-color: #E8F0FE;\n",
              "        border: none;\n",
              "        border-radius: 50%;\n",
              "        cursor: pointer;\n",
              "        display: none;\n",
              "        fill: #1967D2;\n",
              "        height: 32px;\n",
              "        padding: 0 0 0 0;\n",
              "        width: 32px;\n",
              "      }\n",
              "\n",
              "      .colab-df-generate:hover {\n",
              "        background-color: #E2EBFA;\n",
              "        box-shadow: 0px 1px 2px rgba(60, 64, 67, 0.3), 0px 1px 3px 1px rgba(60, 64, 67, 0.15);\n",
              "        fill: #174EA6;\n",
              "      }\n",
              "\n",
              "      [theme=dark] .colab-df-generate {\n",
              "        background-color: #3B4455;\n",
              "        fill: #D2E3FC;\n",
              "      }\n",
              "\n",
              "      [theme=dark] .colab-df-generate:hover {\n",
              "        background-color: #434B5C;\n",
              "        box-shadow: 0px 1px 3px 1px rgba(0, 0, 0, 0.15);\n",
              "        filter: drop-shadow(0px 1px 2px rgba(0, 0, 0, 0.3));\n",
              "        fill: #FFFFFF;\n",
              "      }\n",
              "    </style>\n",
              "    <button class=\"colab-df-generate\" onclick=\"generateWithVariable('df_synthetic')\"\n",
              "            title=\"Generate code using this dataframe.\"\n",
              "            style=\"display:none;\">\n",
              "\n",
              "  <svg xmlns=\"http://www.w3.org/2000/svg\" height=\"24px\"viewBox=\"0 0 24 24\"\n",
              "       width=\"24px\">\n",
              "    <path d=\"M7,19H8.4L18.45,9,17,7.55,7,17.6ZM5,21V16.75L18.45,3.32a2,2,0,0,1,2.83,0l1.4,1.43a1.91,1.91,0,0,1,.58,1.4,1.91,1.91,0,0,1-.58,1.4L9.25,21ZM18.45,9,17,7.55Zm-12,3A5.31,5.31,0,0,0,4.9,8.1,5.31,5.31,0,0,0,1,6.5,5.31,5.31,0,0,0,4.9,4.9,5.31,5.31,0,0,0,6.5,1,5.31,5.31,0,0,0,8.1,4.9,5.31,5.31,0,0,0,12,6.5,5.46,5.46,0,0,0,6.5,12Z\"/>\n",
              "  </svg>\n",
              "    </button>\n",
              "    <script>\n",
              "      (() => {\n",
              "      const buttonEl =\n",
              "        document.querySelector('#id_279a1f38-8fe5-46c5-aa98-a46e258792e7 button.colab-df-generate');\n",
              "      buttonEl.style.display =\n",
              "        google.colab.kernel.accessAllowed ? 'block' : 'none';\n",
              "\n",
              "      buttonEl.onclick = () => {\n",
              "        google.colab.notebook.generateWithVariable('df_synthetic');\n",
              "      }\n",
              "      })();\n",
              "    </script>\n",
              "  </div>\n",
              "\n",
              "    </div>\n",
              "  </div>\n"
            ],
            "application/vnd.google.colaboratory.intrinsic+json": {
              "type": "dataframe",
              "variable_name": "df_synthetic"
            }
          },
          "metadata": {},
          "execution_count": 5
        }
      ]
    },
    {
      "cell_type": "markdown",
      "source": [
        "## **Creating the training and test data WITHOUT Data Leakage. **"
      ],
      "metadata": {
        "id": "pmuOs_Z8l72N"
      }
    },
    {
      "cell_type": "code",
      "source": [
        "# extract only synthetic rows\n",
        "df_synthetic = df_synthetic[ df_synthetic.label == 'synthetic' ]\n",
        "df_synthetic = df_synthetic.reset_index(drop=True)"
      ],
      "metadata": {
        "id": "7rDqBgF_3VM9"
      },
      "execution_count": 8,
      "outputs": []
    },
    {
      "cell_type": "code",
      "source": [
        "df = df.drop('Time', axis=1)"
      ],
      "metadata": {
        "collapsed": true,
        "id": "orKtHm9SrV1j"
      },
      "execution_count": 6,
      "outputs": []
    },
    {
      "cell_type": "code",
      "source": [
        "# split the dataset into trainig and test set\n",
        "\n",
        "x = df.drop('Class', axis=1)\n",
        "y = df['Class']\n",
        "X_train, X_test, y_train, y_test = train_test_split(x, y, test_size=0.25, random_state=42)\n"
      ],
      "metadata": {
        "id": "CQ3hfvjCzPud"
      },
      "execution_count": 7,
      "outputs": []
    },
    {
      "cell_type": "markdown",
      "source": [
        "**Notice that we separated the test data then re-join the data from synthetic dataframe and the original dataframe and balancing the training dataset**"
      ],
      "metadata": {
        "id": "lKL31SIHmMsO"
      }
    },
    {
      "cell_type": "code",
      "source": [
        "# extracting the frauds and NOT frauds\n",
        "X_train[\"Class\"] = y_train\n",
        "df_sample_0 = X_train[X_train.Class == 0]\n",
        "df_sample_1 = X_train[X_train.Class == 1]"
      ],
      "metadata": {
        "id": "KbtowGqB5Wug"
      },
      "execution_count": 9,
      "outputs": []
    },
    {
      "cell_type": "code",
      "source": [
        "df_sample_0.shape, df_sample_1.shape"
      ],
      "metadata": {
        "colab": {
          "base_uri": "https://localhost:8080/"
        },
        "id": "iMKjkmih6BwH",
        "outputId": "6ca44bf0-b55c-4b69-adba-265e77debee4"
      },
      "execution_count": 10,
      "outputs": [
        {
          "output_type": "execute_result",
          "data": {
            "text/plain": [
              "((213226, 30), (379, 30))"
            ]
          },
          "metadata": {},
          "execution_count": 10
        }
      ]
    },
    {
      "cell_type": "code",
      "source": [
        "df_synthetic['label'] = 1"
      ],
      "metadata": {
        "id": "kdc-GHGn6pOe"
      },
      "execution_count": 11,
      "outputs": []
    },
    {
      "cell_type": "code",
      "source": [
        "df_sample_1.columns = df_synthetic.columns"
      ],
      "metadata": {
        "id": "QRAoSAcm6xHW"
      },
      "execution_count": 12,
      "outputs": []
    },
    {
      "cell_type": "code",
      "source": [
        "df_sample_0.columns = df_synthetic.columns"
      ],
      "metadata": {
        "id": "Yf4b0n-F7c6e"
      },
      "execution_count": 13,
      "outputs": []
    },
    {
      "cell_type": "code",
      "source": [
        "df_sample_1"
      ],
      "metadata": {
        "colab": {
          "base_uri": "https://localhost:8080/",
          "height": 443
        },
        "id": "sT2Q7lbc7f-E",
        "outputId": "9bc4df11-3ead-4be4-e9ca-1badc533fa89"
      },
      "execution_count": 16,
      "outputs": [
        {
          "output_type": "execute_result",
          "data": {
            "text/plain": [
              "                0          1          2         3          4         5  \\\n",
              "172787  -2.628922   2.275636  -3.745369  1.226948  -1.132966 -1.256353   \n",
              "15166  -18.474868  11.586381 -21.402917  6.038515 -14.451158 -4.146524   \n",
              "15539  -22.561699  13.208904 -24.643819  6.232532 -16.905611 -4.497439   \n",
              "8335    -1.426623   4.141986  -9.804103  6.666273  -4.749527 -2.073129   \n",
              "151011 -15.192064  10.432528 -19.629515  8.046075 -12.838167 -1.875859   \n",
              "...           ...        ...        ...       ...        ...       ...   \n",
              "42674   -7.896886   5.381020  -8.451162  7.963928  -7.862419 -2.376820   \n",
              "33276   -7.923891  -5.198360  -3.000024  4.420666   2.272194 -3.394483   \n",
              "182992   1.889618   1.073099  -1.678018  4.173268   1.015516 -0.009389   \n",
              "154697  -4.221221   2.871121  -5.888716  6.890952  -3.404894 -1.154394   \n",
              "226814  -2.405207   2.943823  -7.616654  3.533374  -5.417494 -0.112632   \n",
              "\n",
              "                6          7         8          9  ...        20        21  \\\n",
              "172787  -1.752420   0.281736 -1.792343  -4.820779  ...  0.870730  1.269473   \n",
              "15166  -14.856124  12.431140 -4.053353  -9.040396  ...  1.741136 -1.251138   \n",
              "15539  -16.810184  14.955107 -3.871297  -8.581266  ...  1.765987 -1.635517   \n",
              "8335   -10.089931   2.791345 -3.249516 -11.420451  ...  1.865679  0.407809   \n",
              "151011 -21.359738  -3.717850 -5.969782 -17.141514  ... -3.474097  1.765446   \n",
              "...           ...        ...       ...        ...  ...       ...       ...   \n",
              "42674  -11.949723   5.051356 -6.912076 -11.589748  ...  2.557944  0.926278   \n",
              "33276   -5.283435   0.131619  0.658176  -0.794994  ... -0.734308 -0.599926   \n",
              "182992  -0.079706   0.064071 -0.714517   0.042228  ...  0.203728  0.733796   \n",
              "154697  -7.739928   2.851363 -2.507569  -5.110728  ...  1.620591  1.567947   \n",
              "226814  -1.329372   1.709417 -2.322716  -6.540989  ...  0.652683  0.414132   \n",
              "\n",
              "              22        23        24        25        26        27      28  \\\n",
              "172787 -0.265494 -0.480549  0.169665  0.096081  0.070036  0.063768  144.62   \n",
              "15166  -0.396219  0.095706  1.322751 -0.217955  1.628793  0.482248   99.99   \n",
              "15539  -0.998317  0.138972  1.559350 -0.222125  1.504425  0.445920   99.99   \n",
              "8335    0.605809 -0.769348 -1.746337  0.502040  1.977258  0.711607    1.00   \n",
              "151011  1.701257  0.381587 -1.413417 -1.023078 -2.634761 -0.463931    1.00   \n",
              "...          ...       ...       ...       ...       ...       ...     ...   \n",
              "42674   0.032795  0.638073  0.361887  0.444577  1.101923  0.205958    1.52   \n",
              "33276  -4.908301  0.410170 -1.167660  0.520508  1.937421 -1.552593   12.31   \n",
              "182992 -0.036560  0.334306  0.147171  0.279556  0.031669  0.035883    3.22   \n",
              "154697 -0.578007 -0.059045 -1.829169 -0.072429  0.136734 -0.599848    7.59   \n",
              "226814  0.023869 -0.260616  0.405316  0.029107  0.519807 -0.469537  667.55   \n",
              "\n",
              "        label  \n",
              "172787      1  \n",
              "15166       1  \n",
              "15539       1  \n",
              "8335        1  \n",
              "151011      1  \n",
              "...       ...  \n",
              "42674       1  \n",
              "33276       1  \n",
              "182992      1  \n",
              "154697      1  \n",
              "226814      1  \n",
              "\n",
              "[379 rows x 30 columns]"
            ],
            "text/html": [
              "\n",
              "  <div id=\"df-c1c8ff70-8d9d-4bf3-affa-a5b8c10cea09\" class=\"colab-df-container\">\n",
              "    <div>\n",
              "<style scoped>\n",
              "    .dataframe tbody tr th:only-of-type {\n",
              "        vertical-align: middle;\n",
              "    }\n",
              "\n",
              "    .dataframe tbody tr th {\n",
              "        vertical-align: top;\n",
              "    }\n",
              "\n",
              "    .dataframe thead th {\n",
              "        text-align: right;\n",
              "    }\n",
              "</style>\n",
              "<table border=\"1\" class=\"dataframe\">\n",
              "  <thead>\n",
              "    <tr style=\"text-align: right;\">\n",
              "      <th></th>\n",
              "      <th>0</th>\n",
              "      <th>1</th>\n",
              "      <th>2</th>\n",
              "      <th>3</th>\n",
              "      <th>4</th>\n",
              "      <th>5</th>\n",
              "      <th>6</th>\n",
              "      <th>7</th>\n",
              "      <th>8</th>\n",
              "      <th>9</th>\n",
              "      <th>...</th>\n",
              "      <th>20</th>\n",
              "      <th>21</th>\n",
              "      <th>22</th>\n",
              "      <th>23</th>\n",
              "      <th>24</th>\n",
              "      <th>25</th>\n",
              "      <th>26</th>\n",
              "      <th>27</th>\n",
              "      <th>28</th>\n",
              "      <th>label</th>\n",
              "    </tr>\n",
              "  </thead>\n",
              "  <tbody>\n",
              "    <tr>\n",
              "      <th>172787</th>\n",
              "      <td>-2.628922</td>\n",
              "      <td>2.275636</td>\n",
              "      <td>-3.745369</td>\n",
              "      <td>1.226948</td>\n",
              "      <td>-1.132966</td>\n",
              "      <td>-1.256353</td>\n",
              "      <td>-1.752420</td>\n",
              "      <td>0.281736</td>\n",
              "      <td>-1.792343</td>\n",
              "      <td>-4.820779</td>\n",
              "      <td>...</td>\n",
              "      <td>0.870730</td>\n",
              "      <td>1.269473</td>\n",
              "      <td>-0.265494</td>\n",
              "      <td>-0.480549</td>\n",
              "      <td>0.169665</td>\n",
              "      <td>0.096081</td>\n",
              "      <td>0.070036</td>\n",
              "      <td>0.063768</td>\n",
              "      <td>144.62</td>\n",
              "      <td>1</td>\n",
              "    </tr>\n",
              "    <tr>\n",
              "      <th>15166</th>\n",
              "      <td>-18.474868</td>\n",
              "      <td>11.586381</td>\n",
              "      <td>-21.402917</td>\n",
              "      <td>6.038515</td>\n",
              "      <td>-14.451158</td>\n",
              "      <td>-4.146524</td>\n",
              "      <td>-14.856124</td>\n",
              "      <td>12.431140</td>\n",
              "      <td>-4.053353</td>\n",
              "      <td>-9.040396</td>\n",
              "      <td>...</td>\n",
              "      <td>1.741136</td>\n",
              "      <td>-1.251138</td>\n",
              "      <td>-0.396219</td>\n",
              "      <td>0.095706</td>\n",
              "      <td>1.322751</td>\n",
              "      <td>-0.217955</td>\n",
              "      <td>1.628793</td>\n",
              "      <td>0.482248</td>\n",
              "      <td>99.99</td>\n",
              "      <td>1</td>\n",
              "    </tr>\n",
              "    <tr>\n",
              "      <th>15539</th>\n",
              "      <td>-22.561699</td>\n",
              "      <td>13.208904</td>\n",
              "      <td>-24.643819</td>\n",
              "      <td>6.232532</td>\n",
              "      <td>-16.905611</td>\n",
              "      <td>-4.497439</td>\n",
              "      <td>-16.810184</td>\n",
              "      <td>14.955107</td>\n",
              "      <td>-3.871297</td>\n",
              "      <td>-8.581266</td>\n",
              "      <td>...</td>\n",
              "      <td>1.765987</td>\n",
              "      <td>-1.635517</td>\n",
              "      <td>-0.998317</td>\n",
              "      <td>0.138972</td>\n",
              "      <td>1.559350</td>\n",
              "      <td>-0.222125</td>\n",
              "      <td>1.504425</td>\n",
              "      <td>0.445920</td>\n",
              "      <td>99.99</td>\n",
              "      <td>1</td>\n",
              "    </tr>\n",
              "    <tr>\n",
              "      <th>8335</th>\n",
              "      <td>-1.426623</td>\n",
              "      <td>4.141986</td>\n",
              "      <td>-9.804103</td>\n",
              "      <td>6.666273</td>\n",
              "      <td>-4.749527</td>\n",
              "      <td>-2.073129</td>\n",
              "      <td>-10.089931</td>\n",
              "      <td>2.791345</td>\n",
              "      <td>-3.249516</td>\n",
              "      <td>-11.420451</td>\n",
              "      <td>...</td>\n",
              "      <td>1.865679</td>\n",
              "      <td>0.407809</td>\n",
              "      <td>0.605809</td>\n",
              "      <td>-0.769348</td>\n",
              "      <td>-1.746337</td>\n",
              "      <td>0.502040</td>\n",
              "      <td>1.977258</td>\n",
              "      <td>0.711607</td>\n",
              "      <td>1.00</td>\n",
              "      <td>1</td>\n",
              "    </tr>\n",
              "    <tr>\n",
              "      <th>151011</th>\n",
              "      <td>-15.192064</td>\n",
              "      <td>10.432528</td>\n",
              "      <td>-19.629515</td>\n",
              "      <td>8.046075</td>\n",
              "      <td>-12.838167</td>\n",
              "      <td>-1.875859</td>\n",
              "      <td>-21.359738</td>\n",
              "      <td>-3.717850</td>\n",
              "      <td>-5.969782</td>\n",
              "      <td>-17.141514</td>\n",
              "      <td>...</td>\n",
              "      <td>-3.474097</td>\n",
              "      <td>1.765446</td>\n",
              "      <td>1.701257</td>\n",
              "      <td>0.381587</td>\n",
              "      <td>-1.413417</td>\n",
              "      <td>-1.023078</td>\n",
              "      <td>-2.634761</td>\n",
              "      <td>-0.463931</td>\n",
              "      <td>1.00</td>\n",
              "      <td>1</td>\n",
              "    </tr>\n",
              "    <tr>\n",
              "      <th>...</th>\n",
              "      <td>...</td>\n",
              "      <td>...</td>\n",
              "      <td>...</td>\n",
              "      <td>...</td>\n",
              "      <td>...</td>\n",
              "      <td>...</td>\n",
              "      <td>...</td>\n",
              "      <td>...</td>\n",
              "      <td>...</td>\n",
              "      <td>...</td>\n",
              "      <td>...</td>\n",
              "      <td>...</td>\n",
              "      <td>...</td>\n",
              "      <td>...</td>\n",
              "      <td>...</td>\n",
              "      <td>...</td>\n",
              "      <td>...</td>\n",
              "      <td>...</td>\n",
              "      <td>...</td>\n",
              "      <td>...</td>\n",
              "      <td>...</td>\n",
              "    </tr>\n",
              "    <tr>\n",
              "      <th>42674</th>\n",
              "      <td>-7.896886</td>\n",
              "      <td>5.381020</td>\n",
              "      <td>-8.451162</td>\n",
              "      <td>7.963928</td>\n",
              "      <td>-7.862419</td>\n",
              "      <td>-2.376820</td>\n",
              "      <td>-11.949723</td>\n",
              "      <td>5.051356</td>\n",
              "      <td>-6.912076</td>\n",
              "      <td>-11.589748</td>\n",
              "      <td>...</td>\n",
              "      <td>2.557944</td>\n",
              "      <td>0.926278</td>\n",
              "      <td>0.032795</td>\n",
              "      <td>0.638073</td>\n",
              "      <td>0.361887</td>\n",
              "      <td>0.444577</td>\n",
              "      <td>1.101923</td>\n",
              "      <td>0.205958</td>\n",
              "      <td>1.52</td>\n",
              "      <td>1</td>\n",
              "    </tr>\n",
              "    <tr>\n",
              "      <th>33276</th>\n",
              "      <td>-7.923891</td>\n",
              "      <td>-5.198360</td>\n",
              "      <td>-3.000024</td>\n",
              "      <td>4.420666</td>\n",
              "      <td>2.272194</td>\n",
              "      <td>-3.394483</td>\n",
              "      <td>-5.283435</td>\n",
              "      <td>0.131619</td>\n",
              "      <td>0.658176</td>\n",
              "      <td>-0.794994</td>\n",
              "      <td>...</td>\n",
              "      <td>-0.734308</td>\n",
              "      <td>-0.599926</td>\n",
              "      <td>-4.908301</td>\n",
              "      <td>0.410170</td>\n",
              "      <td>-1.167660</td>\n",
              "      <td>0.520508</td>\n",
              "      <td>1.937421</td>\n",
              "      <td>-1.552593</td>\n",
              "      <td>12.31</td>\n",
              "      <td>1</td>\n",
              "    </tr>\n",
              "    <tr>\n",
              "      <th>182992</th>\n",
              "      <td>1.889618</td>\n",
              "      <td>1.073099</td>\n",
              "      <td>-1.678018</td>\n",
              "      <td>4.173268</td>\n",
              "      <td>1.015516</td>\n",
              "      <td>-0.009389</td>\n",
              "      <td>-0.079706</td>\n",
              "      <td>0.064071</td>\n",
              "      <td>-0.714517</td>\n",
              "      <td>0.042228</td>\n",
              "      <td>...</td>\n",
              "      <td>0.203728</td>\n",
              "      <td>0.733796</td>\n",
              "      <td>-0.036560</td>\n",
              "      <td>0.334306</td>\n",
              "      <td>0.147171</td>\n",
              "      <td>0.279556</td>\n",
              "      <td>0.031669</td>\n",
              "      <td>0.035883</td>\n",
              "      <td>3.22</td>\n",
              "      <td>1</td>\n",
              "    </tr>\n",
              "    <tr>\n",
              "      <th>154697</th>\n",
              "      <td>-4.221221</td>\n",
              "      <td>2.871121</td>\n",
              "      <td>-5.888716</td>\n",
              "      <td>6.890952</td>\n",
              "      <td>-3.404894</td>\n",
              "      <td>-1.154394</td>\n",
              "      <td>-7.739928</td>\n",
              "      <td>2.851363</td>\n",
              "      <td>-2.507569</td>\n",
              "      <td>-5.110728</td>\n",
              "      <td>...</td>\n",
              "      <td>1.620591</td>\n",
              "      <td>1.567947</td>\n",
              "      <td>-0.578007</td>\n",
              "      <td>-0.059045</td>\n",
              "      <td>-1.829169</td>\n",
              "      <td>-0.072429</td>\n",
              "      <td>0.136734</td>\n",
              "      <td>-0.599848</td>\n",
              "      <td>7.59</td>\n",
              "      <td>1</td>\n",
              "    </tr>\n",
              "    <tr>\n",
              "      <th>226814</th>\n",
              "      <td>-2.405207</td>\n",
              "      <td>2.943823</td>\n",
              "      <td>-7.616654</td>\n",
              "      <td>3.533374</td>\n",
              "      <td>-5.417494</td>\n",
              "      <td>-0.112632</td>\n",
              "      <td>-1.329372</td>\n",
              "      <td>1.709417</td>\n",
              "      <td>-2.322716</td>\n",
              "      <td>-6.540989</td>\n",
              "      <td>...</td>\n",
              "      <td>0.652683</td>\n",
              "      <td>0.414132</td>\n",
              "      <td>0.023869</td>\n",
              "      <td>-0.260616</td>\n",
              "      <td>0.405316</td>\n",
              "      <td>0.029107</td>\n",
              "      <td>0.519807</td>\n",
              "      <td>-0.469537</td>\n",
              "      <td>667.55</td>\n",
              "      <td>1</td>\n",
              "    </tr>\n",
              "  </tbody>\n",
              "</table>\n",
              "<p>379 rows × 30 columns</p>\n",
              "</div>\n",
              "    <div class=\"colab-df-buttons\">\n",
              "\n",
              "  <div class=\"colab-df-container\">\n",
              "    <button class=\"colab-df-convert\" onclick=\"convertToInteractive('df-c1c8ff70-8d9d-4bf3-affa-a5b8c10cea09')\"\n",
              "            title=\"Convert this dataframe to an interactive table.\"\n",
              "            style=\"display:none;\">\n",
              "\n",
              "  <svg xmlns=\"http://www.w3.org/2000/svg\" height=\"24px\" viewBox=\"0 -960 960 960\">\n",
              "    <path d=\"M120-120v-720h720v720H120Zm60-500h600v-160H180v160Zm220 220h160v-160H400v160Zm0 220h160v-160H400v160ZM180-400h160v-160H180v160Zm440 0h160v-160H620v160ZM180-180h160v-160H180v160Zm440 0h160v-160H620v160Z\"/>\n",
              "  </svg>\n",
              "    </button>\n",
              "\n",
              "  <style>\n",
              "    .colab-df-container {\n",
              "      display:flex;\n",
              "      gap: 12px;\n",
              "    }\n",
              "\n",
              "    .colab-df-convert {\n",
              "      background-color: #E8F0FE;\n",
              "      border: none;\n",
              "      border-radius: 50%;\n",
              "      cursor: pointer;\n",
              "      display: none;\n",
              "      fill: #1967D2;\n",
              "      height: 32px;\n",
              "      padding: 0 0 0 0;\n",
              "      width: 32px;\n",
              "    }\n",
              "\n",
              "    .colab-df-convert:hover {\n",
              "      background-color: #E2EBFA;\n",
              "      box-shadow: 0px 1px 2px rgba(60, 64, 67, 0.3), 0px 1px 3px 1px rgba(60, 64, 67, 0.15);\n",
              "      fill: #174EA6;\n",
              "    }\n",
              "\n",
              "    .colab-df-buttons div {\n",
              "      margin-bottom: 4px;\n",
              "    }\n",
              "\n",
              "    [theme=dark] .colab-df-convert {\n",
              "      background-color: #3B4455;\n",
              "      fill: #D2E3FC;\n",
              "    }\n",
              "\n",
              "    [theme=dark] .colab-df-convert:hover {\n",
              "      background-color: #434B5C;\n",
              "      box-shadow: 0px 1px 3px 1px rgba(0, 0, 0, 0.15);\n",
              "      filter: drop-shadow(0px 1px 2px rgba(0, 0, 0, 0.3));\n",
              "      fill: #FFFFFF;\n",
              "    }\n",
              "  </style>\n",
              "\n",
              "    <script>\n",
              "      const buttonEl =\n",
              "        document.querySelector('#df-c1c8ff70-8d9d-4bf3-affa-a5b8c10cea09 button.colab-df-convert');\n",
              "      buttonEl.style.display =\n",
              "        google.colab.kernel.accessAllowed ? 'block' : 'none';\n",
              "\n",
              "      async function convertToInteractive(key) {\n",
              "        const element = document.querySelector('#df-c1c8ff70-8d9d-4bf3-affa-a5b8c10cea09');\n",
              "        const dataTable =\n",
              "          await google.colab.kernel.invokeFunction('convertToInteractive',\n",
              "                                                    [key], {});\n",
              "        if (!dataTable) return;\n",
              "\n",
              "        const docLinkHtml = 'Like what you see? Visit the ' +\n",
              "          '<a target=\"_blank\" href=https://colab.research.google.com/notebooks/data_table.ipynb>data table notebook</a>'\n",
              "          + ' to learn more about interactive tables.';\n",
              "        element.innerHTML = '';\n",
              "        dataTable['output_type'] = 'display_data';\n",
              "        await google.colab.output.renderOutput(dataTable, element);\n",
              "        const docLink = document.createElement('div');\n",
              "        docLink.innerHTML = docLinkHtml;\n",
              "        element.appendChild(docLink);\n",
              "      }\n",
              "    </script>\n",
              "  </div>\n",
              "\n",
              "\n",
              "<div id=\"df-1a7c2fcd-7271-476b-bc58-ff5cee0ae323\">\n",
              "  <button class=\"colab-df-quickchart\" onclick=\"quickchart('df-1a7c2fcd-7271-476b-bc58-ff5cee0ae323')\"\n",
              "            title=\"Suggest charts\"\n",
              "            style=\"display:none;\">\n",
              "\n",
              "<svg xmlns=\"http://www.w3.org/2000/svg\" height=\"24px\"viewBox=\"0 0 24 24\"\n",
              "     width=\"24px\">\n",
              "    <g>\n",
              "        <path d=\"M19 3H5c-1.1 0-2 .9-2 2v14c0 1.1.9 2 2 2h14c1.1 0 2-.9 2-2V5c0-1.1-.9-2-2-2zM9 17H7v-7h2v7zm4 0h-2V7h2v10zm4 0h-2v-4h2v4z\"/>\n",
              "    </g>\n",
              "</svg>\n",
              "  </button>\n",
              "\n",
              "<style>\n",
              "  .colab-df-quickchart {\n",
              "      --bg-color: #E8F0FE;\n",
              "      --fill-color: #1967D2;\n",
              "      --hover-bg-color: #E2EBFA;\n",
              "      --hover-fill-color: #174EA6;\n",
              "      --disabled-fill-color: #AAA;\n",
              "      --disabled-bg-color: #DDD;\n",
              "  }\n",
              "\n",
              "  [theme=dark] .colab-df-quickchart {\n",
              "      --bg-color: #3B4455;\n",
              "      --fill-color: #D2E3FC;\n",
              "      --hover-bg-color: #434B5C;\n",
              "      --hover-fill-color: #FFFFFF;\n",
              "      --disabled-bg-color: #3B4455;\n",
              "      --disabled-fill-color: #666;\n",
              "  }\n",
              "\n",
              "  .colab-df-quickchart {\n",
              "    background-color: var(--bg-color);\n",
              "    border: none;\n",
              "    border-radius: 50%;\n",
              "    cursor: pointer;\n",
              "    display: none;\n",
              "    fill: var(--fill-color);\n",
              "    height: 32px;\n",
              "    padding: 0;\n",
              "    width: 32px;\n",
              "  }\n",
              "\n",
              "  .colab-df-quickchart:hover {\n",
              "    background-color: var(--hover-bg-color);\n",
              "    box-shadow: 0 1px 2px rgba(60, 64, 67, 0.3), 0 1px 3px 1px rgba(60, 64, 67, 0.15);\n",
              "    fill: var(--button-hover-fill-color);\n",
              "  }\n",
              "\n",
              "  .colab-df-quickchart-complete:disabled,\n",
              "  .colab-df-quickchart-complete:disabled:hover {\n",
              "    background-color: var(--disabled-bg-color);\n",
              "    fill: var(--disabled-fill-color);\n",
              "    box-shadow: none;\n",
              "  }\n",
              "\n",
              "  .colab-df-spinner {\n",
              "    border: 2px solid var(--fill-color);\n",
              "    border-color: transparent;\n",
              "    border-bottom-color: var(--fill-color);\n",
              "    animation:\n",
              "      spin 1s steps(1) infinite;\n",
              "  }\n",
              "\n",
              "  @keyframes spin {\n",
              "    0% {\n",
              "      border-color: transparent;\n",
              "      border-bottom-color: var(--fill-color);\n",
              "      border-left-color: var(--fill-color);\n",
              "    }\n",
              "    20% {\n",
              "      border-color: transparent;\n",
              "      border-left-color: var(--fill-color);\n",
              "      border-top-color: var(--fill-color);\n",
              "    }\n",
              "    30% {\n",
              "      border-color: transparent;\n",
              "      border-left-color: var(--fill-color);\n",
              "      border-top-color: var(--fill-color);\n",
              "      border-right-color: var(--fill-color);\n",
              "    }\n",
              "    40% {\n",
              "      border-color: transparent;\n",
              "      border-right-color: var(--fill-color);\n",
              "      border-top-color: var(--fill-color);\n",
              "    }\n",
              "    60% {\n",
              "      border-color: transparent;\n",
              "      border-right-color: var(--fill-color);\n",
              "    }\n",
              "    80% {\n",
              "      border-color: transparent;\n",
              "      border-right-color: var(--fill-color);\n",
              "      border-bottom-color: var(--fill-color);\n",
              "    }\n",
              "    90% {\n",
              "      border-color: transparent;\n",
              "      border-bottom-color: var(--fill-color);\n",
              "    }\n",
              "  }\n",
              "</style>\n",
              "\n",
              "  <script>\n",
              "    async function quickchart(key) {\n",
              "      const quickchartButtonEl =\n",
              "        document.querySelector('#' + key + ' button');\n",
              "      quickchartButtonEl.disabled = true;  // To prevent multiple clicks.\n",
              "      quickchartButtonEl.classList.add('colab-df-spinner');\n",
              "      try {\n",
              "        const charts = await google.colab.kernel.invokeFunction(\n",
              "            'suggestCharts', [key], {});\n",
              "      } catch (error) {\n",
              "        console.error('Error during call to suggestCharts:', error);\n",
              "      }\n",
              "      quickchartButtonEl.classList.remove('colab-df-spinner');\n",
              "      quickchartButtonEl.classList.add('colab-df-quickchart-complete');\n",
              "    }\n",
              "    (() => {\n",
              "      let quickchartButtonEl =\n",
              "        document.querySelector('#df-1a7c2fcd-7271-476b-bc58-ff5cee0ae323 button');\n",
              "      quickchartButtonEl.style.display =\n",
              "        google.colab.kernel.accessAllowed ? 'block' : 'none';\n",
              "    })();\n",
              "  </script>\n",
              "</div>\n",
              "\n",
              "  <div id=\"id_7433c21d-2300-4ebc-9ee3-141fec4bdaba\">\n",
              "    <style>\n",
              "      .colab-df-generate {\n",
              "        background-color: #E8F0FE;\n",
              "        border: none;\n",
              "        border-radius: 50%;\n",
              "        cursor: pointer;\n",
              "        display: none;\n",
              "        fill: #1967D2;\n",
              "        height: 32px;\n",
              "        padding: 0 0 0 0;\n",
              "        width: 32px;\n",
              "      }\n",
              "\n",
              "      .colab-df-generate:hover {\n",
              "        background-color: #E2EBFA;\n",
              "        box-shadow: 0px 1px 2px rgba(60, 64, 67, 0.3), 0px 1px 3px 1px rgba(60, 64, 67, 0.15);\n",
              "        fill: #174EA6;\n",
              "      }\n",
              "\n",
              "      [theme=dark] .colab-df-generate {\n",
              "        background-color: #3B4455;\n",
              "        fill: #D2E3FC;\n",
              "      }\n",
              "\n",
              "      [theme=dark] .colab-df-generate:hover {\n",
              "        background-color: #434B5C;\n",
              "        box-shadow: 0px 1px 3px 1px rgba(0, 0, 0, 0.15);\n",
              "        filter: drop-shadow(0px 1px 2px rgba(0, 0, 0, 0.3));\n",
              "        fill: #FFFFFF;\n",
              "      }\n",
              "    </style>\n",
              "    <button class=\"colab-df-generate\" onclick=\"generateWithVariable('df_sample_1')\"\n",
              "            title=\"Generate code using this dataframe.\"\n",
              "            style=\"display:none;\">\n",
              "\n",
              "  <svg xmlns=\"http://www.w3.org/2000/svg\" height=\"24px\"viewBox=\"0 0 24 24\"\n",
              "       width=\"24px\">\n",
              "    <path d=\"M7,19H8.4L18.45,9,17,7.55,7,17.6ZM5,21V16.75L18.45,3.32a2,2,0,0,1,2.83,0l1.4,1.43a1.91,1.91,0,0,1,.58,1.4,1.91,1.91,0,0,1-.58,1.4L9.25,21ZM18.45,9,17,7.55Zm-12,3A5.31,5.31,0,0,0,4.9,8.1,5.31,5.31,0,0,0,1,6.5,5.31,5.31,0,0,0,4.9,4.9,5.31,5.31,0,0,0,6.5,1,5.31,5.31,0,0,0,8.1,4.9,5.31,5.31,0,0,0,12,6.5,5.46,5.46,0,0,0,6.5,12Z\"/>\n",
              "  </svg>\n",
              "    </button>\n",
              "    <script>\n",
              "      (() => {\n",
              "      const buttonEl =\n",
              "        document.querySelector('#id_7433c21d-2300-4ebc-9ee3-141fec4bdaba button.colab-df-generate');\n",
              "      buttonEl.style.display =\n",
              "        google.colab.kernel.accessAllowed ? 'block' : 'none';\n",
              "\n",
              "      buttonEl.onclick = () => {\n",
              "        google.colab.notebook.generateWithVariable('df_sample_1');\n",
              "      }\n",
              "      })();\n",
              "    </script>\n",
              "  </div>\n",
              "\n",
              "    </div>\n",
              "  </div>\n"
            ],
            "application/vnd.google.colaboratory.intrinsic+json": {
              "type": "dataframe",
              "variable_name": "df_sample_1"
            }
          },
          "metadata": {},
          "execution_count": 16
        }
      ]
    },
    {
      "cell_type": "code",
      "source": [
        "# create new dataframe samples of same number as synthetic data 10379\n",
        "df_sample_0 = df_sample_0.sample(n=10379).reset_index(drop=True)\n",
        "df_sample_1 = df_sample_1.sample(frac=1).reset_index(drop=True)\n",
        "df_sample = pd.concat([df_sample_1,df_sample_0],ignore_index=True)\n",
        "df_sample = df_sample.sample(frac=1).reset_index(drop=True)"
      ],
      "metadata": {
        "id": "hrTtXOYP6HSv"
      },
      "execution_count": 17,
      "outputs": []
    },
    {
      "cell_type": "code",
      "source": [
        "df_sample_x = df_sample.drop('label', axis=1)"
      ],
      "metadata": {
        "id": "pOttiNWfz0ml"
      },
      "execution_count": 18,
      "outputs": []
    },
    {
      "cell_type": "code",
      "source": [
        "X_test.columns = df_sample_x.columns"
      ],
      "metadata": {
        "id": "ws-3JaOT9cOM"
      },
      "execution_count": 19,
      "outputs": []
    },
    {
      "cell_type": "code",
      "source": [
        "# Using Robust Scaler on Original Dataframe as well as it has been used with GAN model\n",
        "from sklearn.preprocessing import RobustScaler\n",
        "scaler = RobustScaler()\n",
        "df_real = scaler.fit_transform(df_sample_x)\n",
        "df_real = pd.DataFrame(df_real)\n",
        "df_real['label'] = df_sample['label']\n",
        "df_real.columns = df_synthetic.columns\n",
        "\n",
        "x_test = scaler.transform(X_test)\n",
        "\n",
        "\n",
        "df_train = pd.concat( [ df_real , df_synthetic], ignore_index=True)\n"
      ],
      "metadata": {
        "id": "MF3rlNDHp7Ye"
      },
      "execution_count": 20,
      "outputs": []
    },
    {
      "cell_type": "code",
      "source": [
        "df_train = df_train.sample(frac=1).reset_index(drop=True)"
      ],
      "metadata": {
        "id": "XLMN4-J7q1cz"
      },
      "execution_count": 21,
      "outputs": []
    },
    {
      "cell_type": "code",
      "source": [
        "df_train.label.value_counts()"
      ],
      "metadata": {
        "colab": {
          "base_uri": "https://localhost:8080/",
          "height": 178
        },
        "id": "qhPEzued-mHl",
        "outputId": "560c373d-1a68-48bd-a21d-3ac5fb569580"
      },
      "execution_count": 22,
      "outputs": [
        {
          "output_type": "execute_result",
          "data": {
            "text/plain": [
              "label\n",
              "0    10379\n",
              "1    10379\n",
              "Name: count, dtype: int64"
            ],
            "text/html": [
              "<div>\n",
              "<style scoped>\n",
              "    .dataframe tbody tr th:only-of-type {\n",
              "        vertical-align: middle;\n",
              "    }\n",
              "\n",
              "    .dataframe tbody tr th {\n",
              "        vertical-align: top;\n",
              "    }\n",
              "\n",
              "    .dataframe thead th {\n",
              "        text-align: right;\n",
              "    }\n",
              "</style>\n",
              "<table border=\"1\" class=\"dataframe\">\n",
              "  <thead>\n",
              "    <tr style=\"text-align: right;\">\n",
              "      <th></th>\n",
              "      <th>count</th>\n",
              "    </tr>\n",
              "    <tr>\n",
              "      <th>label</th>\n",
              "      <th></th>\n",
              "    </tr>\n",
              "  </thead>\n",
              "  <tbody>\n",
              "    <tr>\n",
              "      <th>0</th>\n",
              "      <td>10379</td>\n",
              "    </tr>\n",
              "    <tr>\n",
              "      <th>1</th>\n",
              "      <td>10379</td>\n",
              "    </tr>\n",
              "  </tbody>\n",
              "</table>\n",
              "</div><br><label><b>dtype:</b> int64</label>"
            ]
          },
          "metadata": {},
          "execution_count": 22
        }
      ]
    },
    {
      "cell_type": "code",
      "source": [
        "from sklearn.linear_model import LogisticRegression\n",
        "from sklearn.ensemble import RandomForestClassifier"
      ],
      "metadata": {
        "id": "ISxFPA-At0-s"
      },
      "execution_count": 23,
      "outputs": []
    },
    {
      "cell_type": "code",
      "source": [
        "X_train = df_train.drop('label', axis=1)\n",
        "y_train = df_train['label']"
      ],
      "metadata": {
        "id": "teJ14HOBvK-r"
      },
      "execution_count": 24,
      "outputs": []
    },
    {
      "cell_type": "code",
      "source": [
        "rf_gen = RandomForestClassifier(random_state=42)\n",
        "rf_gen.fit(X_train, y_train)\n",
        "preds = rf_gen.predict(x_test)\n",
        "print(rf_gen)\n",
        "print(confusion_matrix( y_test, preds))\n",
        "print(classification_report( y_test, preds))"
      ],
      "metadata": {
        "colab": {
          "base_uri": "https://localhost:8080/"
        },
        "id": "Zon6uGo-ukqW",
        "outputId": "28fe195b-17ef-4a4f-86fa-471d9fbfb599"
      },
      "execution_count": 28,
      "outputs": [
        {
          "output_type": "stream",
          "name": "stderr",
          "text": [
            "/usr/local/lib/python3.10/dist-packages/sklearn/base.py:465: UserWarning: X does not have valid feature names, but RandomForestClassifier was fitted with feature names\n",
            "  warnings.warn(\n"
          ]
        },
        {
          "output_type": "stream",
          "name": "stdout",
          "text": [
            "RandomForestClassifier(random_state=42)\n",
            "[[70953   136]\n",
            " [   14    99]]\n",
            "              precision    recall  f1-score   support\n",
            "\n",
            "           0       1.00      1.00      1.00     71089\n",
            "           1       0.42      0.88      0.57       113\n",
            "\n",
            "    accuracy                           1.00     71202\n",
            "   macro avg       0.71      0.94      0.78     71202\n",
            "weighted avg       1.00      1.00      1.00     71202\n",
            "\n"
          ]
        }
      ]
    },
    {
      "cell_type": "markdown",
      "source": [
        "## **ROC AUC Curve**"
      ],
      "metadata": {
        "id": "EIzSFYzFkuYv"
      }
    },
    {
      "cell_type": "code",
      "source": [
        "from sklearn.metrics import roc_auc_score\n",
        "\n",
        "# Assuming y_true are the true labels (0 or 1)\n",
        "# and y_pred_proba are the predicted probabilities\n",
        "y_pred_proba = rf_gen.predict_proba(x_test)[: , 1]\n",
        "auc = roc_auc_score(y_test, y_pred_proba)\n",
        "print(\"AUC:\", auc)"
      ],
      "metadata": {
        "colab": {
          "base_uri": "https://localhost:8080/"
        },
        "id": "90BXR9TOGp5Z",
        "outputId": "c884a0be-9557-4abf-a603-54ca90eb50b3"
      },
      "execution_count": 29,
      "outputs": [
        {
          "output_type": "stream",
          "name": "stderr",
          "text": [
            "/usr/local/lib/python3.10/dist-packages/sklearn/base.py:465: UserWarning: X does not have valid feature names, but RandomForestClassifier was fitted with feature names\n",
            "  warnings.warn(\n"
          ]
        },
        {
          "output_type": "stream",
          "name": "stdout",
          "text": [
            "AUC: 0.9755298014193102\n"
          ]
        }
      ]
    },
    {
      "cell_type": "code",
      "source": [
        "from sklearn.metrics import roc_curve\n",
        "\n",
        "fpr, tpr, thresholds = roc_curve(y_test, y_pred_proba)\n",
        "plt.plot(fpr, tpr)\n",
        "plt.xlabel('False Positive Rate')\n",
        "plt.ylabel('True Positive Rate')\n",
        "plt.title('ROC Curve')\n",
        "plt.show()"
      ],
      "metadata": {
        "colab": {
          "base_uri": "https://localhost:8080/",
          "height": 472
        },
        "id": "jc7med_SI-Zr",
        "outputId": "4598efaf-00e2-46d5-f724-09f154384142"
      },
      "execution_count": 30,
      "outputs": [
        {
          "output_type": "display_data",
          "data": {
            "text/plain": [
              "<Figure size 640x480 with 1 Axes>"
            ],
            "image/png": "[encoded data removed]"
          },
          "metadata": {}
        }
      ]
    },
    {
      "cell_type": "code",
      "source": [],
      "metadata": {
        "id": "7I5WKpq6lAZB"
      },
      "execution_count": null,
      "outputs": []
    },
    {
      "cell_type": "code",
      "source": [
        "# plot the confusion matrix\n",
        "\n",
        "y_labels = (y_pred_proba >= 0.06)\n",
        "len(y_labels)\n",
        "\n",
        "print(confusion_matrix(y_test, y_labels))\n",
        "sns.heatmap(confusion_matrix(y_test, y_labels), annot=True, fmt='d')\n",
        "\n"
      ],
      "metadata": {
        "colab": {
          "base_uri": "https://localhost:8080/",
          "height": 482
        },
        "id": "iZVVJNMUlArE",
        "outputId": "09348883-3ceb-4aaf-a7d3-1994e5617d30"
      },
      "execution_count": 36,
      "outputs": [
        {
          "output_type": "stream",
          "name": "stdout",
          "text": [
            "[[61619  9470]\n",
            " [    5   108]]\n"
          ]
        },
        {
          "output_type": "execute_result",
          "data": {
            "text/plain": [
              "<Axes: >"
            ]
          },
          "metadata": {},
          "execution_count": 36
        },
        {
          "output_type": "display_data",
          "data": {
            "text/plain": [
              "<Figure size 640x480 with 2 Axes>"
            ],
            "image/png": "[encoded data removed]"
          },
          "metadata": {}
        }
      ]
    },
    {
      "cell_type": "code",
      "source": [],
      "metadata": {
        "id": "_gDgkJLjlQX-"
      },
      "execution_count": null,
      "outputs": []
    }
  ],
  "metadata": {
    "kernelspec": {
      "display_name": "Python 3",
      "name": "python3"
    },
    "language_info": {
      "codemirror_mode": {
        "name": "ipython",
        "version": 3
      },
      "file_extension": ".py",
      "mimetype": "text/x-python",
      "name": "python",
      "nbconvert_exporter": "python",
      "pygments_lexer": "ipython3",
      "version": "3.7.6"
    },
    "colab": {
      "provenance": [],
      "toc_visible": true,
      "include_colab_link": true
    }
  },
  "nbformat": 4,
  "nbformat_minor": 0
}